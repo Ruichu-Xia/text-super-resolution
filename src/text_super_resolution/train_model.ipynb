{
 "cells": [
  {
   "cell_type": "code",
   "execution_count": 1,
   "metadata": {},
   "outputs": [],
   "source": [
    "import os\n",
    "import json\n",
    "\n",
    "import numpy as np\n",
    "from PIL import Image\n",
    "import torch\n",
    "import torch.nn as nn\n",
    "import torch.nn.functional as F\n",
    "import torch.optim as optim\n",
    "from torch.utils.data import DataLoader\n",
    "\n",
    "from data_utils.dataset import LocalImageDataset, get_split_indices\n",
    "from model.ResNetSR import ResNetSR\n",
    "from model.utils import get_device, train_model_single_epoch, validate_model_single_epoch, save_checkpoint, save_samples, CombinedLoss"
   ]
  },
  {
   "cell_type": "code",
   "execution_count": 2,
   "metadata": {},
   "outputs": [],
   "source": [
    "with open(\"data/test_indices.json\", \"r\") as f:\n",
    "    test_indices = json.load(f)"
   ]
  },
  {
   "cell_type": "code",
   "execution_count": 3,
   "metadata": {},
   "outputs": [],
   "source": [
    "INPUT_DIR = \"data/resolution_128\"\n",
    "TARGET_DIR = \"data/resolution_256\"\n",
    "NUM_EPOCHS = 20\n",
    "BATCH_SIZE = 64\n",
    "LEARNING_RATE = 0.01\n",
    "\n",
    "GRAD_CLIP = 1\n",
    "EDGE_WEIGHT = 0.3\n",
    "\n",
    "history = {\n",
    "    \"train_loss\": [],\n",
    "    \"train_psnr\": [],\n",
    "    \"val_loss\": [],\n",
    "    \"val_psnr\": []\n",
    "}"
   ]
  },
  {
   "cell_type": "code",
   "execution_count": 4,
   "metadata": {},
   "outputs": [],
   "source": [
    "num_images = len([f for f in os.listdir(INPUT_DIR) if f.endswith(('.jpg', '.png', '.jpeg', '.webp'))])\n",
    "train_indices, val_indices = get_split_indices(num_images, test_indices)\n",
    "\n",
    "train_loader = DataLoader(LocalImageDataset(INPUT_DIR, TARGET_DIR, train_indices), batch_size=BATCH_SIZE, shuffle=True)\n",
    "val_loader = DataLoader(LocalImageDataset(INPUT_DIR, TARGET_DIR, val_indices), batch_size=BATCH_SIZE, shuffle=False)\n",
    "test_loader = DataLoader(LocalImageDataset(INPUT_DIR, TARGET_DIR, test_indices), batch_size=BATCH_SIZE, shuffle=False)"
   ]
  },
  {
   "cell_type": "code",
   "execution_count": 5,
   "metadata": {},
   "outputs": [],
   "source": [
    "best_val_loss = float('inf')\n",
    "\n",
    "save_ckpt = 2\n",
    "checkpoint_dir = \"ckpt\"\n",
    "\n",
    "n_samples = 5\n",
    "samples_to_visualize = DataLoader(LocalImageDataset(INPUT_DIR, TARGET_DIR, test_indices), batch_size=n_samples, shuffle=False)\n",
    "\n",
    "sample_dir = \"samples\"\n",
    "\n",
    "train_losses = []\n",
    "val_losses = []"
   ]
  },
  {
   "cell_type": "code",
   "execution_count": 6,
   "metadata": {},
   "outputs": [],
   "source": [
    "device = get_device()\n",
    "model = ResNetSR(upscale_factor=2, num_res_blocks=2, num_channels=1, num_features=32)\n",
    "model = model.to(device)\n",
    "mae_loss = nn.L1Loss()\n",
    "criterion = CombinedLoss(mae_loss, EDGE_WEIGHT)\n",
    "optimizer = optim.AdamW(model.parameters(), lr=LEARNING_RATE)\n",
    "scheduler = torch.optim.lr_scheduler.ReduceLROnPlateau(optimizer, mode='min', factor=0.5, patience=60)"
   ]
  },
  {
   "cell_type": "code",
   "execution_count": 7,
   "metadata": {},
   "outputs": [
    {
     "name": "stderr",
     "output_type": "stream",
     "text": [
      "Training:   0%|          | 0/67 [00:00<?, ?it/s]"
     ]
    },
    {
     "name": "stderr",
     "output_type": "stream",
     "text": [
      "Training: 100%|██████████| 67/67 [00:22<00:00,  3.01it/s, loss=0.296, psnr=12.8]   \n"
     ]
    },
    {
     "name": "stdout",
     "output_type": "stream",
     "text": [
      "[Epoch 1/20] Train Loss: 28.0889, PSNR: -4.19 | Val Loss: 0.2720, PSNR: 14.26 | lr: 0.01\n",
      "Model checkpoint saved at ckpt/ckpt_0\n"
     ]
    },
    {
     "name": "stderr",
     "output_type": "stream",
     "text": [
      "Training: 100%|██████████| 67/67 [00:20<00:00,  3.24it/s, loss=0.202, psnr=16.4]\n"
     ]
    },
    {
     "name": "stdout",
     "output_type": "stream",
     "text": [
      "[Epoch 2/20] Train Loss: 0.2268, PSNR: 15.72 | Val Loss: 0.2053, PSNR: 16.22 | lr: 0.01\n",
      "Model checkpoint saved at ckpt/ckpt_3\n",
      "Saved 5 samples at epoch 3 to samples/epoch_3_samples.png\n",
      "Model checkpoint saved at ckpt/ckpt_0\n"
     ]
    },
    {
     "name": "stderr",
     "output_type": "stream",
     "text": [
      "Training: 100%|██████████| 67/67 [00:20<00:00,  3.22it/s, loss=0.172, psnr=16.7]\n"
     ]
    },
    {
     "name": "stdout",
     "output_type": "stream",
     "text": [
      "[Epoch 3/20] Train Loss: 0.1887, PSNR: 16.40 | Val Loss: 0.1680, PSNR: 16.76 | lr: 0.01\n",
      "Model checkpoint saved at ckpt/ckpt_0\n"
     ]
    },
    {
     "name": "stderr",
     "output_type": "stream",
     "text": [
      "Training: 100%|██████████| 67/67 [00:21<00:00,  3.17it/s, loss=0.142, psnr=17.4]\n"
     ]
    },
    {
     "name": "stdout",
     "output_type": "stream",
     "text": [
      "[Epoch 4/20] Train Loss: 0.1521, PSNR: 17.13 | Val Loss: 0.1478, PSNR: 17.23 | lr: 0.01\n",
      "Model checkpoint saved at ckpt/ckpt_5\n",
      "Saved 5 samples at epoch 5 to samples/epoch_5_samples.png\n",
      "Model checkpoint saved at ckpt/ckpt_0\n"
     ]
    },
    {
     "name": "stderr",
     "output_type": "stream",
     "text": [
      "Training: 100%|██████████| 67/67 [00:20<00:00,  3.19it/s, loss=0.138, psnr=17.5]\n"
     ]
    },
    {
     "name": "stdout",
     "output_type": "stream",
     "text": [
      "[Epoch 5/20] Train Loss: 0.1391, PSNR: 17.62 | Val Loss: 0.1304, PSNR: 17.92 | lr: 0.01\n",
      "Model checkpoint saved at ckpt/ckpt_0\n"
     ]
    },
    {
     "name": "stderr",
     "output_type": "stream",
     "text": [
      "Training: 100%|██████████| 67/67 [00:21<00:00,  3.18it/s, loss=0.118, psnr=18.3]\n"
     ]
    },
    {
     "name": "stdout",
     "output_type": "stream",
     "text": [
      "[Epoch 6/20] Train Loss: 0.1230, PSNR: 18.19 | Val Loss: 0.1189, PSNR: 18.39 | lr: 0.01\n",
      "Model checkpoint saved at ckpt/ckpt_7\n",
      "Saved 5 samples at epoch 7 to samples/epoch_7_samples.png\n",
      "Model checkpoint saved at ckpt/ckpt_0\n"
     ]
    },
    {
     "name": "stderr",
     "output_type": "stream",
     "text": [
      "Training: 100%|██████████| 67/67 [00:20<00:00,  3.21it/s, loss=0.107, psnr=18.8] \n"
     ]
    },
    {
     "name": "stdout",
     "output_type": "stream",
     "text": [
      "[Epoch 7/20] Train Loss: 0.1110, PSNR: 18.71 | Val Loss: 0.1053, PSNR: 18.94 | lr: 0.01\n",
      "Model checkpoint saved at ckpt/ckpt_0\n"
     ]
    },
    {
     "name": "stderr",
     "output_type": "stream",
     "text": [
      "Training: 100%|██████████| 67/67 [00:21<00:00,  3.17it/s, loss=0.109, psnr=18.9] \n"
     ]
    },
    {
     "name": "stdout",
     "output_type": "stream",
     "text": [
      "[Epoch 8/20] Train Loss: 0.1042, PSNR: 19.08 | Val Loss: 0.0959, PSNR: 19.41 | lr: 0.01\n",
      "Model checkpoint saved at ckpt/ckpt_9\n",
      "Saved 5 samples at epoch 9 to samples/epoch_9_samples.png\n",
      "Model checkpoint saved at ckpt/ckpt_0\n"
     ]
    },
    {
     "name": "stderr",
     "output_type": "stream",
     "text": [
      "Training: 100%|██████████| 67/67 [00:20<00:00,  3.22it/s, loss=0.0853, psnr=20.1]\n"
     ]
    },
    {
     "name": "stdout",
     "output_type": "stream",
     "text": [
      "[Epoch 9/20] Train Loss: 0.0934, PSNR: 19.60 | Val Loss: 0.0910, PSNR: 19.78 | lr: 0.01\n",
      "Model checkpoint saved at ckpt/ckpt_0\n"
     ]
    },
    {
     "name": "stderr",
     "output_type": "stream",
     "text": [
      "Training: 100%|██████████| 67/67 [00:21<00:00,  3.06it/s, loss=0.0768, psnr=20.5]\n"
     ]
    },
    {
     "name": "stdout",
     "output_type": "stream",
     "text": [
      "[Epoch 10/20] Train Loss: 0.0850, PSNR: 20.06 | Val Loss: 0.0816, PSNR: 20.23 | lr: 0.01\n",
      "Model checkpoint saved at ckpt/ckpt_11\n",
      "Saved 5 samples at epoch 11 to samples/epoch_11_samples.png\n",
      "Model checkpoint saved at ckpt/ckpt_0\n"
     ]
    },
    {
     "name": "stderr",
     "output_type": "stream",
     "text": [
      "Training: 100%|██████████| 67/67 [00:20<00:00,  3.24it/s, loss=0.0966, psnr=19.5]\n"
     ]
    },
    {
     "name": "stdout",
     "output_type": "stream",
     "text": [
      "[Epoch 11/20] Train Loss: 0.0853, PSNR: 20.12 | Val Loss: 0.0982, PSNR: 19.47 | lr: 0.01\n"
     ]
    },
    {
     "name": "stderr",
     "output_type": "stream",
     "text": [
      "Training: 100%|██████████| 67/67 [00:21<00:00,  3.12it/s, loss=0.0784, psnr=20.6]\n"
     ]
    },
    {
     "name": "stdout",
     "output_type": "stream",
     "text": [
      "[Epoch 12/20] Train Loss: 0.0802, PSNR: 20.41 | Val Loss: 0.0752, PSNR: 20.73 | lr: 0.01\n",
      "Model checkpoint saved at ckpt/ckpt_13\n",
      "Saved 5 samples at epoch 13 to samples/epoch_13_samples.png\n",
      "Model checkpoint saved at ckpt/ckpt_0\n"
     ]
    },
    {
     "name": "stderr",
     "output_type": "stream",
     "text": [
      "Training: 100%|██████████| 67/67 [00:21<00:00,  3.12it/s, loss=0.0838, psnr=20.4]\n"
     ]
    },
    {
     "name": "stdout",
     "output_type": "stream",
     "text": [
      "[Epoch 13/20] Train Loss: 0.0742, PSNR: 20.79 | Val Loss: 0.0857, PSNR: 20.10 | lr: 0.01\n"
     ]
    },
    {
     "name": "stderr",
     "output_type": "stream",
     "text": [
      "Training: 100%|██████████| 67/67 [00:20<00:00,  3.21it/s, loss=0.0692, psnr=21.1]\n"
     ]
    },
    {
     "name": "stdout",
     "output_type": "stream",
     "text": [
      "[Epoch 14/20] Train Loss: 0.0765, PSNR: 20.70 | Val Loss: 0.0677, PSNR: 21.20 | lr: 0.01\n",
      "Model checkpoint saved at ckpt/ckpt_15\n",
      "Saved 5 samples at epoch 15 to samples/epoch_15_samples.png\n",
      "Model checkpoint saved at ckpt/ckpt_0\n"
     ]
    },
    {
     "name": "stderr",
     "output_type": "stream",
     "text": [
      "Training: 100%|██████████| 67/67 [00:20<00:00,  3.20it/s, loss=0.0649, psnr=21.4]\n"
     ]
    },
    {
     "name": "stdout",
     "output_type": "stream",
     "text": [
      "[Epoch 15/20] Train Loss: 0.0680, PSNR: 21.22 | Val Loss: 0.0668, PSNR: 21.33 | lr: 0.01\n",
      "Model checkpoint saved at ckpt/ckpt_0\n"
     ]
    },
    {
     "name": "stderr",
     "output_type": "stream",
     "text": [
      "Training: 100%|██████████| 67/67 [00:20<00:00,  3.21it/s, loss=0.0674, psnr=21.3]\n"
     ]
    },
    {
     "name": "stdout",
     "output_type": "stream",
     "text": [
      "[Epoch 16/20] Train Loss: 0.0726, PSNR: 20.99 | Val Loss: 0.0652, PSNR: 21.40 | lr: 0.01\n",
      "Model checkpoint saved at ckpt/ckpt_17\n",
      "Saved 5 samples at epoch 17 to samples/epoch_17_samples.png\n",
      "Model checkpoint saved at ckpt/ckpt_0\n"
     ]
    },
    {
     "name": "stderr",
     "output_type": "stream",
     "text": [
      "Training: 100%|██████████| 67/67 [00:20<00:00,  3.24it/s, loss=0.0569, psnr=22.1]\n"
     ]
    },
    {
     "name": "stdout",
     "output_type": "stream",
     "text": [
      "[Epoch 17/20] Train Loss: 0.0651, PSNR: 21.45 | Val Loss: 0.0637, PSNR: 21.56 | lr: 0.01\n",
      "Model checkpoint saved at ckpt/ckpt_0\n"
     ]
    },
    {
     "name": "stderr",
     "output_type": "stream",
     "text": [
      "Training: 100%|██████████| 67/67 [00:20<00:00,  3.20it/s, loss=0.0591, psnr=21.9]\n"
     ]
    },
    {
     "name": "stdout",
     "output_type": "stream",
     "text": [
      "[Epoch 18/20] Train Loss: 0.0638, PSNR: 21.58 | Val Loss: 0.0611, PSNR: 21.79 | lr: 0.01\n",
      "Model checkpoint saved at ckpt/ckpt_19\n",
      "Saved 5 samples at epoch 19 to samples/epoch_19_samples.png\n",
      "Model checkpoint saved at ckpt/ckpt_0\n"
     ]
    },
    {
     "name": "stderr",
     "output_type": "stream",
     "text": [
      "Training: 100%|██████████| 67/67 [00:21<00:00,  3.14it/s, loss=32.1, psnr=-25.1] \n"
     ]
    },
    {
     "name": "stdout",
     "output_type": "stream",
     "text": [
      "[Epoch 19/20] Train Loss: 1.6615, PSNR: 17.34 | Val Loss: 12.1742, PSNR: -20.29 | lr: 0.01\n"
     ]
    },
    {
     "name": "stderr",
     "output_type": "stream",
     "text": [
      "Training: 100%|██████████| 67/67 [00:21<00:00,  3.10it/s, loss=27.5, psnr=-20.1]   \n"
     ]
    },
    {
     "name": "stdout",
     "output_type": "stream",
     "text": [
      "[Epoch 20/20] Train Loss: 299586.6519, PSNR: -26.73 | Val Loss: 7.6428, PSNR: -17.63 | lr: 0.01\n",
      "Model checkpoint saved at ckpt/ckpt_21\n",
      "Saved 5 samples at epoch 21 to samples/epoch_21_samples.png\n"
     ]
    }
   ],
   "source": [
    "for epoch in range(1, NUM_EPOCHS + 1):\n",
    "    train_loss, train_psnr = train_model_single_epoch(model, train_loader, criterion, optimizer, device, scaler=None, grad_clip=GRAD_CLIP)\n",
    "    val_loss, val_psnr = validate_model_single_epoch(model, val_loader, criterion, device)\n",
    "    current_lr = scheduler.get_last_lr()[0]\n",
    "    print(f\"[Epoch {epoch}/{NUM_EPOCHS}]\",\n",
    "            f\"Train Loss: {train_loss:.4f}, PSNR: {train_psnr:.2f} | \"\n",
    "            f\"Val Loss: {val_loss:.4f}, PSNR: {val_psnr:.2f} | \"\n",
    "            f\"lr: {round(current_lr, 5)}\")\n",
    "\n",
    "    if epoch % save_ckpt == 0:\n",
    "        save_checkpoint(epoch+1, model, optimizer, history, checkpoint_dir)\n",
    "\n",
    "        save_samples(epoch+1, model, val_loader, device, sample_dir, samples_to_visualize)\n",
    "\n",
    "    if val_loss < best_val_loss:\n",
    "        best_val_loss = val_loss\n",
    "        save_checkpoint(0, model, optimizer, history, checkpoint_dir)\n",
    "\n",
    "    scheduler.step(val_loss)\n",
    "\n",
    "    history[\"train_loss\"].append(train_loss)\n",
    "    history[\"train_psnr\"].append(train_psnr)\n",
    "    history[\"val_loss\"].append(val_loss)\n",
    "    history[\"val_psnr\"].append(val_psnr)"
   ]
  },
  {
   "cell_type": "code",
   "execution_count": null,
   "metadata": {},
   "outputs": [],
   "source": []
  }
 ],
 "metadata": {
  "kernelspec": {
   "display_name": "text-super-resolution--8a6EK9B-py3.10",
   "language": "python",
   "name": "python3"
  },
  "language_info": {
   "codemirror_mode": {
    "name": "ipython",
    "version": 3
   },
   "file_extension": ".py",
   "mimetype": "text/x-python",
   "name": "python",
   "nbconvert_exporter": "python",
   "pygments_lexer": "ipython3",
   "version": "3.10.12"
  }
 },
 "nbformat": 4,
 "nbformat_minor": 2
}
