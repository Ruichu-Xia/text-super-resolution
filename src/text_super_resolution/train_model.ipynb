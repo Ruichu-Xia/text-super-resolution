{
 "cells": [
  {
   "cell_type": "code",
   "execution_count": 1,
   "metadata": {},
   "outputs": [],
   "source": [
    "import os\n",
    "import json\n",
    "import seaborn as sns\n",
    "import matplotlib.pyplot as plt\n",
    "\n",
    "import numpy as np\n",
    "from PIL import Image\n",
    "import torch\n",
    "import torch.nn as nn\n",
    "import torch.nn.functional as F\n",
    "import torch.optim as optim\n",
    "from torch.utils.data import DataLoader\n",
    "\n",
    "from data_utils.dataset import LocalImageDataset, get_split_indices\n",
    "from model.ResNetSR import ResNetSR\n",
    "from model.utils import get_device, train_model_single_epoch, validate_model_single_epoch, save_checkpoint, save_samples, CombinedLoss"
   ]
  },
  {
   "cell_type": "code",
   "execution_count": 2,
   "metadata": {},
   "outputs": [],
   "source": [
    "with open(\"data/test_indices.json\", \"r\") as f:\n",
    "    test_indices = json.load(f)"
   ]
  },
  {
   "cell_type": "code",
   "execution_count": 3,
   "metadata": {},
   "outputs": [
    {
     "data": {
      "text/plain": [
       "594"
      ]
     },
     "execution_count": 3,
     "metadata": {},
     "output_type": "execute_result"
    }
   ],
   "source": [
    "len(test_indices)"
   ]
  },
  {
   "cell_type": "code",
   "execution_count": 4,
   "metadata": {},
   "outputs": [],
   "source": [
    "INPUT_DIR = \"data/resolution_128\"\n",
    "TARGET_DIR = \"data/resolution_256\"\n",
    "NUM_EPOCHS = 30\n",
    "BATCH_SIZE = 64\n",
    "LEARNING_RATE = 0.01\n",
    "\n",
    "GRAD_CLIP = 1\n",
    "EDGE_WEIGHT = 0.3\n",
    "PSNR_WEIGHT = 0.3\n",
    "\n",
    "history = {\n",
    "    \"train_loss\": [],\n",
    "    \"train_psnr\": [],\n",
    "    \"val_loss\": [],\n",
    "    \"val_psnr\": []\n",
    "}"
   ]
  },
  {
   "cell_type": "code",
   "execution_count": 5,
   "metadata": {},
   "outputs": [],
   "source": [
    "num_images = len([f for f in os.listdir(INPUT_DIR) if f.endswith(('.jpg', '.png', '.jpeg', '.webp'))])\n",
    "train_indices, val_indices = get_split_indices(num_images, test_indices)\n",
    "\n",
    "train_loader = DataLoader(LocalImageDataset(INPUT_DIR, TARGET_DIR, train_indices), batch_size=BATCH_SIZE, shuffle=True)\n",
    "val_loader = DataLoader(LocalImageDataset(INPUT_DIR, TARGET_DIR, val_indices), batch_size=BATCH_SIZE, shuffle=False)\n",
    "test_loader = DataLoader(LocalImageDataset(INPUT_DIR, TARGET_DIR, test_indices), batch_size=BATCH_SIZE, shuffle=False)"
   ]
  },
  {
   "cell_type": "code",
   "execution_count": 6,
   "metadata": {},
   "outputs": [],
   "source": [
    "best_val_loss = float('inf')\n",
    "\n",
    "save_ckpt = 2\n",
    "checkpoint_dir = \"ckpt\"\n",
    "\n",
    "n_samples = 5\n",
    "samples_to_visualize = DataLoader(LocalImageDataset(INPUT_DIR, TARGET_DIR, test_indices), batch_size=n_samples, shuffle=False)\n",
    "\n",
    "sample_dir = \"samples\"\n",
    "\n",
    "train_losses = []\n",
    "val_losses = []"
   ]
  },
  {
   "cell_type": "code",
   "execution_count": 7,
   "metadata": {},
   "outputs": [],
   "source": [
    "device = get_device()\n",
    "model = ResNetSR(upscale_factor=2, num_res_blocks=2, num_channels=1, num_features=32)\n",
    "model = model.to(device)\n",
    "mae_loss = nn.L1Loss()\n",
    "criterion = CombinedLoss(mae_loss, EDGE_WEIGHT)\n",
    "optimizer = optim.AdamW(model.parameters(), lr=LEARNING_RATE)\n",
    "scheduler = torch.optim.lr_scheduler.ReduceLROnPlateau(optimizer, mode='min', factor=0.5, patience=60)"
   ]
  },
  {
   "cell_type": "code",
   "execution_count": 8,
   "metadata": {},
   "outputs": [],
   "source": [
    "# for epoch in range(1, NUM_EPOCHS + 1):\n",
    "#     train_loss, train_psnr = train_model_single_epoch(model, train_loader, criterion, optimizer, device, scaler=None, grad_clip=GRAD_CLIP)\n",
    "#     val_loss, val_psnr = validate_model_single_epoch(model, val_loader, criterion, device)\n",
    "#     current_lr = scheduler.get_last_lr()[0]\n",
    "#     print(f\"[Epoch {epoch}/{NUM_EPOCHS}]\",\n",
    "#             f\"Train Loss: {train_loss:.4f}, PSNR: {train_psnr:.2f} | \"\n",
    "#             f\"Val Loss: {val_loss:.4f}, PSNR: {val_psnr:.2f} | \"\n",
    "#             f\"lr: {round(current_lr, 5)}\")\n",
    "\n",
    "#     if epoch % save_ckpt == 0:\n",
    "#         save_checkpoint(epoch+1, model, optimizer, history, checkpoint_dir)\n",
    "\n",
    "#         save_samples(epoch+1, model, val_loader, device, sample_dir, samples_to_visualize)\n",
    "\n",
    "#     if val_loss < best_val_loss:\n",
    "#         best_val_loss = val_loss\n",
    "#         save_checkpoint(0, model, optimizer, history, checkpoint_dir)\n",
    "\n",
    "#     scheduler.step(val_loss)\n",
    "\n",
    "#     history[\"train_loss\"].append(train_loss)\n",
    "#     history[\"train_psnr\"].append(train_psnr)\n",
    "#     history[\"val_loss\"].append(val_loss)\n",
    "#     history[\"val_psnr\"].append(val_psnr)"
   ]
  },
  {
   "cell_type": "code",
   "execution_count": null,
   "metadata": {},
   "outputs": [],
   "source": [
    "def train_model_for_resolution_pairs(resol_1, resol_2, psnr_weight=PSNR_WEIGHT):\n",
    "    INPUT_DIR = f\"data/resolution_{resol_1}\"\n",
    "    TARGET_DIR = f\"data/resolution_{resol_2}\"\n",
    "\n",
    "    num_images = len([f for f in os.listdir(INPUT_DIR) if f.endswith(('.jpg', '.png', '.jpeg', '.webp'))])\n",
    "    train_indices, val_indices = get_split_indices(num_images, test_indices)\n",
    "\n",
    "    train_loader = DataLoader(LocalImageDataset(INPUT_DIR, TARGET_DIR, train_indices), batch_size=BATCH_SIZE, shuffle=True)\n",
    "    val_loader = DataLoader(LocalImageDataset(INPUT_DIR, TARGET_DIR, val_indices), batch_size=BATCH_SIZE, shuffle=False)\n",
    "    test_loader = DataLoader(LocalImageDataset(INPUT_DIR, TARGET_DIR, test_indices), batch_size=BATCH_SIZE, shuffle=False)\n",
    "\n",
    "    best_val_loss = float('inf')\n",
    "\n",
    "    save_ckpt = 2\n",
    "    checkpoint_dir = f\"ckpt/resolution_{resol_1}_{resol_2}\"\n",
    "    os.makedirs(checkpoint_dir, exist_ok=True)\n",
    "\n",
    "    n_samples = 5\n",
    "    samples_to_visualize = DataLoader(LocalImageDataset(INPUT_DIR, TARGET_DIR, test_indices), batch_size=n_samples, shuffle=False)\n",
    "\n",
    "    sample_dir = f\"samples_{resol_1}_{resol_2}\"\n",
    "\n",
    "\n",
    "    device = get_device()\n",
    "    model = ResNetSR(upscale_factor=2, num_res_blocks=2, num_channels=1, num_features=32)\n",
    "    model = model.to(device)\n",
    "    mae_loss = nn.L1Loss()\n",
    "    criterion = CombinedLoss(mae_loss, EDGE_WEIGHT, psnr_weight)\n",
    "    optimizer = optim.AdamW(model.parameters(), lr=LEARNING_RATE)\n",
    "    scheduler = torch.optim.lr_scheduler.ReduceLROnPlateau(\n",
    "        optimizer, \n",
    "        mode='max',  # Focus on maximizing PSNR\n",
    "        factor=.2,  # More aggressive reduction\n",
    "        patience=2,   # Reduce LR sooner\n",
    "        threshold=0.01,  # Smaller threshold for improvement\n",
    "        verbose=True\n",
    "    )\n",
    "\n",
    "    for epoch in range(1, NUM_EPOCHS + 1):\n",
    "        train_loss, train_psnr = train_model_single_epoch(model, train_loader, criterion, optimizer, device, scaler=None, grad_clip=GRAD_CLIP)\n",
    "        val_loss, val_psnr = validate_model_single_epoch(model, val_loader, criterion, device)\n",
    "        current_lr = scheduler.get_last_lr()[0]\n",
    "        print(f\"[Epoch {epoch}/{NUM_EPOCHS}]\",\n",
    "                f\"Train Loss: {train_loss:.4f}, PSNR: {train_psnr:.2f} | \"\n",
    "                f\"Val Loss: {val_loss:.4f}, PSNR: {val_psnr:.2f} | \"\n",
    "                f\"lr: {round(current_lr, 5)}\")\n",
    "\n",
    "        if epoch % save_ckpt == 0:\n",
    "            save_checkpoint(epoch+1, model, optimizer, history, checkpoint_dir)\n",
    "\n",
    "            save_samples(epoch+1, model, val_loader, device, sample_dir, samples_to_visualize)\n",
    "\n",
    "        if val_loss < best_val_loss:\n",
    "            best_val_loss = val_loss\n",
    "            save_checkpoint(0, model, optimizer, history, checkpoint_dir)\n",
    "\n",
    "        scheduler.step(val_loss)\n",
    "\n",
    "        history[\"train_loss\"].append(train_loss)\n",
    "        history[\"train_psnr\"].append(train_psnr)\n",
    "        history[\"val_loss\"].append(val_loss)\n",
    "        history[\"val_psnr\"].append(val_psnr)\n",
    "\n",
    "    sns.lineplot(\n",
    "        x=range(1, epoch + 1),\n",
    "        y=history[\"train_psnr\"],\n",
    "        label=\"Train PSNR\",\n",
    "        color=\"blue\"\n",
    "    )\n",
    "    sns.lineplot(\n",
    "        x=range(1, epoch + 1),\n",
    "        y=history[\"val_psnr\"],\n",
    "        label=\"Validation PSNR\",\n",
    "        color=\"orange\"\n",
    "    )\n",
    "    plt.title(\"PSNR over epochs\")\n",
    "    plt.xlabel(\"Epoch\")\n",
    "    plt.ylabel(\"PSNR\")\n",
    "    plt.legend()\n",
    "    plt.show()\n",
    "\n",
    "    os.mkdir(\"plots\", exist_ok=True)\n",
    "    plt.savefig(f\"plots/psnr_plot_{resol_1}_{resol_2}.png\")\n",
    "\n",
    "    return history"
   ]
  },
  {
   "cell_type": "code",
   "execution_count": null,
   "metadata": {},
   "outputs": [
    {
     "name": "stderr",
     "output_type": "stream",
     "text": [
      "/Users/janysli/miniconda3/envs/text_super_resol/lib/python3.13/site-packages/torch/optim/lr_scheduler.py:62: UserWarning: The verbose parameter is deprecated. Please use get_last_lr() to access the learning rate.\n",
      "  warnings.warn(\n",
      "Training: 100%|██████████| 67/67 [00:07<00:00,  8.96it/s, loss=-3.8, psnr=13.5]   \n"
     ]
    },
    {
     "name": "stdout",
     "output_type": "stream",
     "text": [
      "[Epoch 1/30] Train Loss: 34.1655, PSNR: 2.99 | Val Loss: -3.7655, PSNR: 13.42 | lr: 0.01\n",
      "Model checkpoint saved at ckpt/resolution_64_128/ckpt_0\n"
     ]
    },
    {
     "name": "stderr",
     "output_type": "stream",
     "text": [
      "Training: 100%|██████████| 67/67 [00:06<00:00,  9.64it/s, loss=-3.95, psnr=13.9]\n"
     ]
    },
    {
     "name": "stdout",
     "output_type": "stream",
     "text": [
      "[Epoch 2/30] Train Loss: -3.8369, PSNR: 13.63 | Val Loss: -3.9131, PSNR: 13.86 | lr: 0.01\n",
      "Model checkpoint saved at ckpt/resolution_64_128/ckpt_3\n",
      "Saved 5 samples at epoch 3 to samples_64_128/epoch_3_samples.png\n",
      "Model checkpoint saved at ckpt/resolution_64_128/ckpt_0\n"
     ]
    },
    {
     "name": "stderr",
     "output_type": "stream",
     "text": [
      "Training: 100%|██████████| 67/67 [00:07<00:00,  9.29it/s, loss=-4.01, psnr=14.1]\n"
     ]
    },
    {
     "name": "stdout",
     "output_type": "stream",
     "text": [
      "[Epoch 3/30] Train Loss: -3.9270, PSNR: 13.88 | Val Loss: -3.9551, PSNR: 13.94 | lr: 0.01\n",
      "Model checkpoint saved at ckpt/resolution_64_128/ckpt_0\n"
     ]
    },
    {
     "name": "stderr",
     "output_type": "stream",
     "text": [
      "Training: 100%|██████████| 67/67 [00:06<00:00, 10.34it/s, loss=-3.94, psnr=13.9]\n"
     ]
    },
    {
     "name": "stdout",
     "output_type": "stream",
     "text": [
      "[Epoch 4/30] Train Loss: -3.9698, PSNR: 13.99 | Val Loss: -3.9667, PSNR: 13.98 | lr: 0.01\n",
      "Model checkpoint saved at ckpt/resolution_64_128/ckpt_5\n",
      "Saved 5 samples at epoch 5 to samples_64_128/epoch_5_samples.png\n",
      "Model checkpoint saved at ckpt/resolution_64_128/ckpt_0\n"
     ]
    },
    {
     "name": "stderr",
     "output_type": "stream",
     "text": [
      "Training: 100%|██████████| 67/67 [00:06<00:00,  9.63it/s, loss=-4.08, psnr=14.3]\n"
     ]
    },
    {
     "name": "stdout",
     "output_type": "stream",
     "text": [
      "[Epoch 5/30] Train Loss: -4.0086, PSNR: 14.10 | Val Loss: -4.0250, PSNR: 14.14 | lr: 0.002\n",
      "Model checkpoint saved at ckpt/resolution_64_128/ckpt_0\n"
     ]
    },
    {
     "name": "stderr",
     "output_type": "stream",
     "text": [
      "Training: 100%|██████████| 67/67 [00:07<00:00,  9.00it/s, loss=-4.02, psnr=14.1]\n"
     ]
    },
    {
     "name": "stdout",
     "output_type": "stream",
     "text": [
      "[Epoch 6/30] Train Loss: -4.0245, PSNR: 14.14 | Val Loss: -4.0338, PSNR: 14.16 | lr: 0.002\n",
      "Model checkpoint saved at ckpt/resolution_64_128/ckpt_7\n",
      "Saved 5 samples at epoch 7 to samples_64_128/epoch_7_samples.png\n",
      "Model checkpoint saved at ckpt/resolution_64_128/ckpt_0\n"
     ]
    },
    {
     "name": "stderr",
     "output_type": "stream",
     "text": [
      "Training: 100%|██████████| 67/67 [00:07<00:00,  9.05it/s, loss=-4.06, psnr=14.2]\n"
     ]
    },
    {
     "name": "stdout",
     "output_type": "stream",
     "text": [
      "[Epoch 7/30] Train Loss: -4.0357, PSNR: 14.17 | Val Loss: -4.0473, PSNR: 14.20 | lr: 0.002\n",
      "Model checkpoint saved at ckpt/resolution_64_128/ckpt_0\n"
     ]
    },
    {
     "name": "stderr",
     "output_type": "stream",
     "text": [
      "Training: 100%|██████████| 67/67 [00:06<00:00, 10.34it/s, loss=-4.07, psnr=14.3]\n"
     ]
    },
    {
     "name": "stdout",
     "output_type": "stream",
     "text": [
      "[Epoch 8/30] Train Loss: -4.0432, PSNR: 14.19 | Val Loss: -4.0495, PSNR: 14.21 | lr: 0.0004\n",
      "Model checkpoint saved at ckpt/resolution_64_128/ckpt_9\n",
      "Saved 5 samples at epoch 9 to samples_64_128/epoch_9_samples.png\n",
      "Model checkpoint saved at ckpt/resolution_64_128/ckpt_0\n"
     ]
    },
    {
     "name": "stderr",
     "output_type": "stream",
     "text": [
      "Training: 100%|██████████| 67/67 [00:06<00:00,  9.97it/s, loss=-4.09, psnr=14.3]\n"
     ]
    },
    {
     "name": "stdout",
     "output_type": "stream",
     "text": [
      "[Epoch 9/30] Train Loss: -4.0462, PSNR: 14.20 | Val Loss: -4.0539, PSNR: 14.22 | lr: 0.0004\n",
      "Model checkpoint saved at ckpt/resolution_64_128/ckpt_0\n"
     ]
    },
    {
     "name": "stderr",
     "output_type": "stream",
     "text": [
      "Training: 100%|██████████| 67/67 [00:07<00:00,  9.56it/s, loss=-4.09, psnr=14.3]\n"
     ]
    },
    {
     "name": "stdout",
     "output_type": "stream",
     "text": [
      "[Epoch 10/30] Train Loss: -4.0479, PSNR: 14.20 | Val Loss: -4.0547, PSNR: 14.22 | lr: 0.0004\n",
      "Model checkpoint saved at ckpt/resolution_64_128/ckpt_11\n",
      "Saved 5 samples at epoch 11 to samples_64_128/epoch_11_samples.png\n",
      "Model checkpoint saved at ckpt/resolution_64_128/ckpt_0\n"
     ]
    },
    {
     "name": "stderr",
     "output_type": "stream",
     "text": [
      "Training: 100%|██████████| 67/67 [00:06<00:00,  9.66it/s, loss=-3.97, psnr=14]  \n"
     ]
    },
    {
     "name": "stdout",
     "output_type": "stream",
     "text": [
      "[Epoch 11/30] Train Loss: -4.0501, PSNR: 14.21 | Val Loss: -4.0553, PSNR: 14.22 | lr: 8e-05\n",
      "Model checkpoint saved at ckpt/resolution_64_128/ckpt_0\n"
     ]
    },
    {
     "name": "stderr",
     "output_type": "stream",
     "text": [
      "Training: 100%|██████████| 67/67 [00:06<00:00, 10.33it/s, loss=-4.05, psnr=14.2]\n"
     ]
    },
    {
     "name": "stdout",
     "output_type": "stream",
     "text": [
      "[Epoch 12/30] Train Loss: -4.0509, PSNR: 14.21 | Val Loss: -4.0563, PSNR: 14.23 | lr: 8e-05\n",
      "Model checkpoint saved at ckpt/resolution_64_128/ckpt_13\n",
      "Saved 5 samples at epoch 13 to samples_64_128/epoch_13_samples.png\n",
      "Model checkpoint saved at ckpt/resolution_64_128/ckpt_0\n"
     ]
    },
    {
     "name": "stderr",
     "output_type": "stream",
     "text": [
      "Training: 100%|██████████| 67/67 [00:07<00:00,  9.43it/s, loss=-3.98, psnr=14]  \n"
     ]
    },
    {
     "name": "stdout",
     "output_type": "stream",
     "text": [
      "[Epoch 13/30] Train Loss: -4.0512, PSNR: 14.21 | Val Loss: -4.0547, PSNR: 14.22 | lr: 8e-05\n"
     ]
    },
    {
     "name": "stderr",
     "output_type": "stream",
     "text": [
      "Training: 100%|██████████| 67/67 [00:07<00:00,  8.49it/s, loss=-4.11, psnr=14.4]\n"
     ]
    },
    {
     "name": "stdout",
     "output_type": "stream",
     "text": [
      "[Epoch 14/30] Train Loss: -4.0522, PSNR: 14.21 | Val Loss: -4.0560, PSNR: 14.22 | lr: 2e-05\n",
      "Model checkpoint saved at ckpt/resolution_64_128/ckpt_15\n",
      "Saved 5 samples at epoch 15 to samples_64_128/epoch_15_samples.png\n"
     ]
    },
    {
     "name": "stderr",
     "output_type": "stream",
     "text": [
      "Training: 100%|██████████| 67/67 [00:06<00:00, 10.35it/s, loss=-4.09, psnr=14.3]\n"
     ]
    },
    {
     "name": "stdout",
     "output_type": "stream",
     "text": [
      "[Epoch 15/30] Train Loss: -4.0520, PSNR: 14.21 | Val Loss: -4.0557, PSNR: 14.22 | lr: 2e-05\n"
     ]
    },
    {
     "name": "stderr",
     "output_type": "stream",
     "text": [
      "Training: 100%|██████████| 67/67 [00:06<00:00,  9.85it/s, loss=-4.1, psnr=14.3] \n"
     ]
    },
    {
     "name": "stdout",
     "output_type": "stream",
     "text": [
      "[Epoch 16/30] Train Loss: -4.0520, PSNR: 14.21 | Val Loss: -4.0572, PSNR: 14.23 | lr: 2e-05\n",
      "Model checkpoint saved at ckpt/resolution_64_128/ckpt_17\n",
      "Saved 5 samples at epoch 17 to samples_64_128/epoch_17_samples.png\n",
      "Model checkpoint saved at ckpt/resolution_64_128/ckpt_0\n"
     ]
    },
    {
     "name": "stderr",
     "output_type": "stream",
     "text": [
      "Training: 100%|██████████| 67/67 [00:06<00:00, 10.12it/s, loss=-4.05, psnr=14.2]\n"
     ]
    },
    {
     "name": "stdout",
     "output_type": "stream",
     "text": [
      "[Epoch 17/30] Train Loss: -4.0525, PSNR: 14.22 | Val Loss: -4.0566, PSNR: 14.23 | lr: 0.0\n"
     ]
    },
    {
     "name": "stderr",
     "output_type": "stream",
     "text": [
      "Training: 100%|██████████| 67/67 [00:06<00:00, 10.20it/s, loss=-4.05, psnr=14.2]\n"
     ]
    },
    {
     "name": "stdout",
     "output_type": "stream",
     "text": [
      "[Epoch 18/30] Train Loss: -4.0524, PSNR: 14.21 | Val Loss: -4.0564, PSNR: 14.23 | lr: 0.0\n",
      "Model checkpoint saved at ckpt/resolution_64_128/ckpt_19\n",
      "Saved 5 samples at epoch 19 to samples_64_128/epoch_19_samples.png\n"
     ]
    },
    {
     "name": "stderr",
     "output_type": "stream",
     "text": [
      "Training: 100%|██████████| 67/67 [00:06<00:00, 10.41it/s, loss=-4.12, psnr=14.4]\n"
     ]
    },
    {
     "name": "stdout",
     "output_type": "stream",
     "text": [
      "[Epoch 19/30] Train Loss: -4.0530, PSNR: 14.22 | Val Loss: -4.0564, PSNR: 14.23 | lr: 0.0\n"
     ]
    },
    {
     "name": "stderr",
     "output_type": "stream",
     "text": [
      "Training: 100%|██████████| 67/67 [00:06<00:00, 10.41it/s, loss=-4.01, psnr=14.1]\n"
     ]
    },
    {
     "name": "stdout",
     "output_type": "stream",
     "text": [
      "[Epoch 20/30] Train Loss: -4.0524, PSNR: 14.21 | Val Loss: -4.0565, PSNR: 14.23 | lr: 0.0\n",
      "Model checkpoint saved at ckpt/resolution_64_128/ckpt_21\n",
      "Saved 5 samples at epoch 21 to samples_64_128/epoch_21_samples.png\n"
     ]
    },
    {
     "name": "stderr",
     "output_type": "stream",
     "text": [
      "Training: 100%|██████████| 67/67 [00:06<00:00, 10.24it/s, loss=-3.99, psnr=14]  \n"
     ]
    },
    {
     "name": "stdout",
     "output_type": "stream",
     "text": [
      "[Epoch 21/30] Train Loss: -4.0522, PSNR: 14.21 | Val Loss: -4.0566, PSNR: 14.23 | lr: 0.0\n"
     ]
    },
    {
     "name": "stderr",
     "output_type": "stream",
     "text": [
      "Training: 100%|██████████| 67/67 [00:07<00:00,  9.54it/s, loss=-4.06, psnr=14.2]\n"
     ]
    },
    {
     "name": "stdout",
     "output_type": "stream",
     "text": [
      "[Epoch 22/30] Train Loss: -4.0526, PSNR: 14.22 | Val Loss: -4.0566, PSNR: 14.23 | lr: 0.0\n",
      "Model checkpoint saved at ckpt/resolution_64_128/ckpt_23\n",
      "Saved 5 samples at epoch 23 to samples_64_128/epoch_23_samples.png\n"
     ]
    },
    {
     "name": "stderr",
     "output_type": "stream",
     "text": [
      "Training: 100%|██████████| 67/67 [00:07<00:00,  9.12it/s, loss=-4.06, psnr=14.2]\n"
     ]
    },
    {
     "name": "stdout",
     "output_type": "stream",
     "text": [
      "[Epoch 23/30] Train Loss: -4.0522, PSNR: 14.21 | Val Loss: -4.0566, PSNR: 14.23 | lr: 0.0\n"
     ]
    },
    {
     "name": "stderr",
     "output_type": "stream",
     "text": [
      "Training: 100%|██████████| 67/67 [00:07<00:00,  8.45it/s, loss=-4.03, psnr=14.1]\n"
     ]
    },
    {
     "name": "stdout",
     "output_type": "stream",
     "text": [
      "[Epoch 24/30] Train Loss: -4.0522, PSNR: 14.21 | Val Loss: -4.0566, PSNR: 14.23 | lr: 0.0\n",
      "Model checkpoint saved at ckpt/resolution_64_128/ckpt_25\n",
      "Saved 5 samples at epoch 25 to samples_64_128/epoch_25_samples.png\n"
     ]
    },
    {
     "name": "stderr",
     "output_type": "stream",
     "text": [
      "Training: 100%|██████████| 67/67 [00:08<00:00,  8.13it/s, loss=-4.04, psnr=14.2]\n"
     ]
    },
    {
     "name": "stdout",
     "output_type": "stream",
     "text": [
      "[Epoch 25/30] Train Loss: -4.0524, PSNR: 14.21 | Val Loss: -4.0566, PSNR: 14.23 | lr: 0.0\n"
     ]
    },
    {
     "name": "stderr",
     "output_type": "stream",
     "text": [
      "Training: 100%|██████████| 67/67 [00:08<00:00,  8.35it/s, loss=-4.04, psnr=14.2]\n"
     ]
    },
    {
     "name": "stdout",
     "output_type": "stream",
     "text": [
      "[Epoch 26/30] Train Loss: -4.0523, PSNR: 14.21 | Val Loss: -4.0566, PSNR: 14.23 | lr: 0.0\n",
      "Model checkpoint saved at ckpt/resolution_64_128/ckpt_27\n",
      "Saved 5 samples at epoch 27 to samples_64_128/epoch_27_samples.png\n"
     ]
    },
    {
     "name": "stderr",
     "output_type": "stream",
     "text": [
      "Training: 100%|██████████| 67/67 [00:07<00:00,  8.59it/s, loss=-4.03, psnr=14.1]\n"
     ]
    },
    {
     "name": "stdout",
     "output_type": "stream",
     "text": [
      "[Epoch 27/30] Train Loss: -4.0525, PSNR: 14.22 | Val Loss: -4.0566, PSNR: 14.23 | lr: 0.0\n"
     ]
    },
    {
     "name": "stderr",
     "output_type": "stream",
     "text": [
      "Training: 100%|██████████| 67/67 [00:07<00:00,  8.45it/s, loss=-4.09, psnr=14.3]\n"
     ]
    },
    {
     "name": "stdout",
     "output_type": "stream",
     "text": [
      "[Epoch 28/30] Train Loss: -4.0526, PSNR: 14.22 | Val Loss: -4.0566, PSNR: 14.23 | lr: 0.0\n",
      "Model checkpoint saved at ckpt/resolution_64_128/ckpt_29\n",
      "Saved 5 samples at epoch 29 to samples_64_128/epoch_29_samples.png\n"
     ]
    },
    {
     "name": "stderr",
     "output_type": "stream",
     "text": [
      "Training: 100%|██████████| 67/67 [00:07<00:00,  8.62it/s, loss=-3.94, psnr=13.9]\n"
     ]
    },
    {
     "name": "stdout",
     "output_type": "stream",
     "text": [
      "[Epoch 29/30] Train Loss: -4.0523, PSNR: 14.21 | Val Loss: -4.0566, PSNR: 14.23 | lr: 0.0\n"
     ]
    },
    {
     "name": "stderr",
     "output_type": "stream",
     "text": [
      "Training: 100%|██████████| 67/67 [00:07<00:00,  8.76it/s, loss=-4.1, psnr=14.3] \n"
     ]
    },
    {
     "name": "stdout",
     "output_type": "stream",
     "text": [
      "[Epoch 30/30] Train Loss: -4.0524, PSNR: 14.21 | Val Loss: -4.0566, PSNR: 14.23 | lr: 0.0\n",
      "Model checkpoint saved at ckpt/resolution_64_128/ckpt_31\n",
      "Saved 5 samples at epoch 31 to samples_64_128/epoch_31_samples.png\n"
     ]
    },
    {
     "data": {
      "image/png": "[encoded data removed]",
      "text/plain": [
       "<Figure size 640x480 with 1 Axes>"
      ]
     },
     "metadata": {},
     "output_type": "display_data"
    },
    {
     "ename": "FileNotFoundError",
     "evalue": "[Errno 2] No such file or directory: 'plots/psnr_plot_64_128.png'",
     "output_type": "error",
     "traceback": [
      "\u001b[0;31m---------------------------------------------------------------------------\u001b[0m",
      "\u001b[0;31mFileNotFoundError\u001b[0m                         Traceback (most recent call last)",
      "Cell \u001b[0;32mIn[10], line 1\u001b[0m\n\u001b[0;32m----> 1\u001b[0m \u001b[43mtrain_model_for_resolution_pairs\u001b[49m\u001b[43m(\u001b[49m\u001b[38;5;241;43m64\u001b[39;49m\u001b[43m,\u001b[49m\u001b[43m \u001b[49m\u001b[38;5;241;43m128\u001b[39;49m\u001b[43m)\u001b[49m\n",
      "Cell \u001b[0;32mIn[9], line 81\u001b[0m, in \u001b[0;36mtrain_model_for_resolution_pairs\u001b[0;34m(resol_1, resol_2)\u001b[0m\n\u001b[1;32m     79\u001b[0m plt\u001b[38;5;241m.\u001b[39mlegend()\n\u001b[1;32m     80\u001b[0m plt\u001b[38;5;241m.\u001b[39mshow()\n\u001b[0;32m---> 81\u001b[0m \u001b[43mplt\u001b[49m\u001b[38;5;241;43m.\u001b[39;49m\u001b[43msavefig\u001b[49m\u001b[43m(\u001b[49m\u001b[38;5;124;43mf\u001b[39;49m\u001b[38;5;124;43m\"\u001b[39;49m\u001b[38;5;124;43mplots/psnr_plot_\u001b[39;49m\u001b[38;5;132;43;01m{\u001b[39;49;00m\u001b[43mresol_1\u001b[49m\u001b[38;5;132;43;01m}\u001b[39;49;00m\u001b[38;5;124;43m_\u001b[39;49m\u001b[38;5;132;43;01m{\u001b[39;49;00m\u001b[43mresol_2\u001b[49m\u001b[38;5;132;43;01m}\u001b[39;49;00m\u001b[38;5;124;43m.png\u001b[39;49m\u001b[38;5;124;43m\"\u001b[39;49m\u001b[43m)\u001b[49m\n\u001b[1;32m     83\u001b[0m \u001b[38;5;28;01mreturn\u001b[39;00m history\n",
      "File \u001b[0;32m~/miniconda3/envs/text_super_resol/lib/python3.13/site-packages/matplotlib/pyplot.py:1243\u001b[0m, in \u001b[0;36msavefig\u001b[0;34m(*args, **kwargs)\u001b[0m\n\u001b[1;32m   1240\u001b[0m fig \u001b[38;5;241m=\u001b[39m gcf()\n\u001b[1;32m   1241\u001b[0m \u001b[38;5;66;03m# savefig default implementation has no return, so mypy is unhappy\u001b[39;00m\n\u001b[1;32m   1242\u001b[0m \u001b[38;5;66;03m# presumably this is here because subclasses can return?\u001b[39;00m\n\u001b[0;32m-> 1243\u001b[0m res \u001b[38;5;241m=\u001b[39m \u001b[43mfig\u001b[49m\u001b[38;5;241;43m.\u001b[39;49m\u001b[43msavefig\u001b[49m\u001b[43m(\u001b[49m\u001b[38;5;241;43m*\u001b[39;49m\u001b[43margs\u001b[49m\u001b[43m,\u001b[49m\u001b[43m \u001b[49m\u001b[38;5;241;43m*\u001b[39;49m\u001b[38;5;241;43m*\u001b[39;49m\u001b[43mkwargs\u001b[49m\u001b[43m)\u001b[49m  \u001b[38;5;66;03m# type: ignore[func-returns-value]\u001b[39;00m\n\u001b[1;32m   1244\u001b[0m fig\u001b[38;5;241m.\u001b[39mcanvas\u001b[38;5;241m.\u001b[39mdraw_idle()  \u001b[38;5;66;03m# Need this if 'transparent=True', to reset colors.\u001b[39;00m\n\u001b[1;32m   1245\u001b[0m \u001b[38;5;28;01mreturn\u001b[39;00m res\n",
      "File \u001b[0;32m~/miniconda3/envs/text_super_resol/lib/python3.13/site-packages/matplotlib/figure.py:3490\u001b[0m, in \u001b[0;36mFigure.savefig\u001b[0;34m(self, fname, transparent, **kwargs)\u001b[0m\n\u001b[1;32m   3488\u001b[0m     \u001b[38;5;28;01mfor\u001b[39;00m ax \u001b[38;5;129;01min\u001b[39;00m \u001b[38;5;28mself\u001b[39m\u001b[38;5;241m.\u001b[39maxes:\n\u001b[1;32m   3489\u001b[0m         _recursively_make_axes_transparent(stack, ax)\n\u001b[0;32m-> 3490\u001b[0m \u001b[38;5;28;43mself\u001b[39;49m\u001b[38;5;241;43m.\u001b[39;49m\u001b[43mcanvas\u001b[49m\u001b[38;5;241;43m.\u001b[39;49m\u001b[43mprint_figure\u001b[49m\u001b[43m(\u001b[49m\u001b[43mfname\u001b[49m\u001b[43m,\u001b[49m\u001b[43m \u001b[49m\u001b[38;5;241;43m*\u001b[39;49m\u001b[38;5;241;43m*\u001b[39;49m\u001b[43mkwargs\u001b[49m\u001b[43m)\u001b[49m\n",
      "File \u001b[0;32m~/miniconda3/envs/text_super_resol/lib/python3.13/site-packages/matplotlib/backend_bases.py:2184\u001b[0m, in \u001b[0;36mFigureCanvasBase.print_figure\u001b[0;34m(self, filename, dpi, facecolor, edgecolor, orientation, format, bbox_inches, pad_inches, bbox_extra_artists, backend, **kwargs)\u001b[0m\n\u001b[1;32m   2180\u001b[0m \u001b[38;5;28;01mtry\u001b[39;00m:\n\u001b[1;32m   2181\u001b[0m     \u001b[38;5;66;03m# _get_renderer may change the figure dpi (as vector formats\u001b[39;00m\n\u001b[1;32m   2182\u001b[0m     \u001b[38;5;66;03m# force the figure dpi to 72), so we need to set it again here.\u001b[39;00m\n\u001b[1;32m   2183\u001b[0m     \u001b[38;5;28;01mwith\u001b[39;00m cbook\u001b[38;5;241m.\u001b[39m_setattr_cm(\u001b[38;5;28mself\u001b[39m\u001b[38;5;241m.\u001b[39mfigure, dpi\u001b[38;5;241m=\u001b[39mdpi):\n\u001b[0;32m-> 2184\u001b[0m         result \u001b[38;5;241m=\u001b[39m \u001b[43mprint_method\u001b[49m\u001b[43m(\u001b[49m\n\u001b[1;32m   2185\u001b[0m \u001b[43m            \u001b[49m\u001b[43mfilename\u001b[49m\u001b[43m,\u001b[49m\n\u001b[1;32m   2186\u001b[0m \u001b[43m            \u001b[49m\u001b[43mfacecolor\u001b[49m\u001b[38;5;241;43m=\u001b[39;49m\u001b[43mfacecolor\u001b[49m\u001b[43m,\u001b[49m\n\u001b[1;32m   2187\u001b[0m \u001b[43m            \u001b[49m\u001b[43medgecolor\u001b[49m\u001b[38;5;241;43m=\u001b[39;49m\u001b[43medgecolor\u001b[49m\u001b[43m,\u001b[49m\n\u001b[1;32m   2188\u001b[0m \u001b[43m            \u001b[49m\u001b[43morientation\u001b[49m\u001b[38;5;241;43m=\u001b[39;49m\u001b[43morientation\u001b[49m\u001b[43m,\u001b[49m\n\u001b[1;32m   2189\u001b[0m \u001b[43m            \u001b[49m\u001b[43mbbox_inches_restore\u001b[49m\u001b[38;5;241;43m=\u001b[39;49m\u001b[43m_bbox_inches_restore\u001b[49m\u001b[43m,\u001b[49m\n\u001b[1;32m   2190\u001b[0m \u001b[43m            \u001b[49m\u001b[38;5;241;43m*\u001b[39;49m\u001b[38;5;241;43m*\u001b[39;49m\u001b[43mkwargs\u001b[49m\u001b[43m)\u001b[49m\n\u001b[1;32m   2191\u001b[0m \u001b[38;5;28;01mfinally\u001b[39;00m:\n\u001b[1;32m   2192\u001b[0m     \u001b[38;5;28;01mif\u001b[39;00m bbox_inches \u001b[38;5;129;01mand\u001b[39;00m restore_bbox:\n",
      "File \u001b[0;32m~/miniconda3/envs/text_super_resol/lib/python3.13/site-packages/matplotlib/backend_bases.py:2040\u001b[0m, in \u001b[0;36mFigureCanvasBase._switch_canvas_and_return_print_method.<locals>.<lambda>\u001b[0;34m(*args, **kwargs)\u001b[0m\n\u001b[1;32m   2036\u001b[0m     optional_kws \u001b[38;5;241m=\u001b[39m {  \u001b[38;5;66;03m# Passed by print_figure for other renderers.\u001b[39;00m\n\u001b[1;32m   2037\u001b[0m         \u001b[38;5;124m\"\u001b[39m\u001b[38;5;124mdpi\u001b[39m\u001b[38;5;124m\"\u001b[39m, \u001b[38;5;124m\"\u001b[39m\u001b[38;5;124mfacecolor\u001b[39m\u001b[38;5;124m\"\u001b[39m, \u001b[38;5;124m\"\u001b[39m\u001b[38;5;124medgecolor\u001b[39m\u001b[38;5;124m\"\u001b[39m, \u001b[38;5;124m\"\u001b[39m\u001b[38;5;124morientation\u001b[39m\u001b[38;5;124m\"\u001b[39m,\n\u001b[1;32m   2038\u001b[0m         \u001b[38;5;124m\"\u001b[39m\u001b[38;5;124mbbox_inches_restore\u001b[39m\u001b[38;5;124m\"\u001b[39m}\n\u001b[1;32m   2039\u001b[0m     skip \u001b[38;5;241m=\u001b[39m optional_kws \u001b[38;5;241m-\u001b[39m {\u001b[38;5;241m*\u001b[39minspect\u001b[38;5;241m.\u001b[39msignature(meth)\u001b[38;5;241m.\u001b[39mparameters}\n\u001b[0;32m-> 2040\u001b[0m     print_method \u001b[38;5;241m=\u001b[39m functools\u001b[38;5;241m.\u001b[39mwraps(meth)(\u001b[38;5;28;01mlambda\u001b[39;00m \u001b[38;5;241m*\u001b[39margs, \u001b[38;5;241m*\u001b[39m\u001b[38;5;241m*\u001b[39mkwargs: \u001b[43mmeth\u001b[49m\u001b[43m(\u001b[49m\n\u001b[1;32m   2041\u001b[0m \u001b[43m        \u001b[49m\u001b[38;5;241;43m*\u001b[39;49m\u001b[43margs\u001b[49m\u001b[43m,\u001b[49m\u001b[43m \u001b[49m\u001b[38;5;241;43m*\u001b[39;49m\u001b[38;5;241;43m*\u001b[39;49m\u001b[43m{\u001b[49m\u001b[43mk\u001b[49m\u001b[43m:\u001b[49m\u001b[43m \u001b[49m\u001b[43mv\u001b[49m\u001b[43m \u001b[49m\u001b[38;5;28;43;01mfor\u001b[39;49;00m\u001b[43m \u001b[49m\u001b[43mk\u001b[49m\u001b[43m,\u001b[49m\u001b[43m \u001b[49m\u001b[43mv\u001b[49m\u001b[43m \u001b[49m\u001b[38;5;129;43;01min\u001b[39;49;00m\u001b[43m \u001b[49m\u001b[43mkwargs\u001b[49m\u001b[38;5;241;43m.\u001b[39;49m\u001b[43mitems\u001b[49m\u001b[43m(\u001b[49m\u001b[43m)\u001b[49m\u001b[43m \u001b[49m\u001b[38;5;28;43;01mif\u001b[39;49;00m\u001b[43m \u001b[49m\u001b[43mk\u001b[49m\u001b[43m \u001b[49m\u001b[38;5;129;43;01mnot\u001b[39;49;00m\u001b[43m \u001b[49m\u001b[38;5;129;43;01min\u001b[39;49;00m\u001b[43m \u001b[49m\u001b[43mskip\u001b[49m\u001b[43m}\u001b[49m\u001b[43m)\u001b[49m)\n\u001b[1;32m   2042\u001b[0m \u001b[38;5;28;01melse\u001b[39;00m:  \u001b[38;5;66;03m# Let third-parties do as they see fit.\u001b[39;00m\n\u001b[1;32m   2043\u001b[0m     print_method \u001b[38;5;241m=\u001b[39m meth\n",
      "File \u001b[0;32m~/miniconda3/envs/text_super_resol/lib/python3.13/site-packages/matplotlib/backends/backend_agg.py:481\u001b[0m, in \u001b[0;36mFigureCanvasAgg.print_png\u001b[0;34m(self, filename_or_obj, metadata, pil_kwargs)\u001b[0m\n\u001b[1;32m    434\u001b[0m \u001b[38;5;28;01mdef\u001b[39;00m\u001b[38;5;250m \u001b[39m\u001b[38;5;21mprint_png\u001b[39m(\u001b[38;5;28mself\u001b[39m, filename_or_obj, \u001b[38;5;241m*\u001b[39m, metadata\u001b[38;5;241m=\u001b[39m\u001b[38;5;28;01mNone\u001b[39;00m, pil_kwargs\u001b[38;5;241m=\u001b[39m\u001b[38;5;28;01mNone\u001b[39;00m):\n\u001b[1;32m    435\u001b[0m \u001b[38;5;250m    \u001b[39m\u001b[38;5;124;03m\"\"\"\u001b[39;00m\n\u001b[1;32m    436\u001b[0m \u001b[38;5;124;03m    Write the figure to a PNG file.\u001b[39;00m\n\u001b[1;32m    437\u001b[0m \n\u001b[0;32m   (...)\u001b[0m\n\u001b[1;32m    479\u001b[0m \u001b[38;5;124;03m        *metadata*, including the default 'Software' key.\u001b[39;00m\n\u001b[1;32m    480\u001b[0m \u001b[38;5;124;03m    \"\"\"\u001b[39;00m\n\u001b[0;32m--> 481\u001b[0m     \u001b[38;5;28;43mself\u001b[39;49m\u001b[38;5;241;43m.\u001b[39;49m\u001b[43m_print_pil\u001b[49m\u001b[43m(\u001b[49m\u001b[43mfilename_or_obj\u001b[49m\u001b[43m,\u001b[49m\u001b[43m \u001b[49m\u001b[38;5;124;43m\"\u001b[39;49m\u001b[38;5;124;43mpng\u001b[39;49m\u001b[38;5;124;43m\"\u001b[39;49m\u001b[43m,\u001b[49m\u001b[43m \u001b[49m\u001b[43mpil_kwargs\u001b[49m\u001b[43m,\u001b[49m\u001b[43m \u001b[49m\u001b[43mmetadata\u001b[49m\u001b[43m)\u001b[49m\n",
      "File \u001b[0;32m~/miniconda3/envs/text_super_resol/lib/python3.13/site-packages/matplotlib/backends/backend_agg.py:430\u001b[0m, in \u001b[0;36mFigureCanvasAgg._print_pil\u001b[0;34m(self, filename_or_obj, fmt, pil_kwargs, metadata)\u001b[0m\n\u001b[1;32m    425\u001b[0m \u001b[38;5;250m\u001b[39m\u001b[38;5;124;03m\"\"\"\u001b[39;00m\n\u001b[1;32m    426\u001b[0m \u001b[38;5;124;03mDraw the canvas, then save it using `.image.imsave` (to which\u001b[39;00m\n\u001b[1;32m    427\u001b[0m \u001b[38;5;124;03m*pil_kwargs* and *metadata* are forwarded).\u001b[39;00m\n\u001b[1;32m    428\u001b[0m \u001b[38;5;124;03m\"\"\"\u001b[39;00m\n\u001b[1;32m    429\u001b[0m FigureCanvasAgg\u001b[38;5;241m.\u001b[39mdraw(\u001b[38;5;28mself\u001b[39m)\n\u001b[0;32m--> 430\u001b[0m \u001b[43mmpl\u001b[49m\u001b[38;5;241;43m.\u001b[39;49m\u001b[43mimage\u001b[49m\u001b[38;5;241;43m.\u001b[39;49m\u001b[43mimsave\u001b[49m\u001b[43m(\u001b[49m\n\u001b[1;32m    431\u001b[0m \u001b[43m    \u001b[49m\u001b[43mfilename_or_obj\u001b[49m\u001b[43m,\u001b[49m\u001b[43m \u001b[49m\u001b[38;5;28;43mself\u001b[39;49m\u001b[38;5;241;43m.\u001b[39;49m\u001b[43mbuffer_rgba\u001b[49m\u001b[43m(\u001b[49m\u001b[43m)\u001b[49m\u001b[43m,\u001b[49m\u001b[43m \u001b[49m\u001b[38;5;28;43mformat\u001b[39;49m\u001b[38;5;241;43m=\u001b[39;49m\u001b[43mfmt\u001b[49m\u001b[43m,\u001b[49m\u001b[43m \u001b[49m\u001b[43morigin\u001b[49m\u001b[38;5;241;43m=\u001b[39;49m\u001b[38;5;124;43m\"\u001b[39;49m\u001b[38;5;124;43mupper\u001b[39;49m\u001b[38;5;124;43m\"\u001b[39;49m\u001b[43m,\u001b[49m\n\u001b[1;32m    432\u001b[0m \u001b[43m    \u001b[49m\u001b[43mdpi\u001b[49m\u001b[38;5;241;43m=\u001b[39;49m\u001b[38;5;28;43mself\u001b[39;49m\u001b[38;5;241;43m.\u001b[39;49m\u001b[43mfigure\u001b[49m\u001b[38;5;241;43m.\u001b[39;49m\u001b[43mdpi\u001b[49m\u001b[43m,\u001b[49m\u001b[43m \u001b[49m\u001b[43mmetadata\u001b[49m\u001b[38;5;241;43m=\u001b[39;49m\u001b[43mmetadata\u001b[49m\u001b[43m,\u001b[49m\u001b[43m \u001b[49m\u001b[43mpil_kwargs\u001b[49m\u001b[38;5;241;43m=\u001b[39;49m\u001b[43mpil_kwargs\u001b[49m\u001b[43m)\u001b[49m\n",
      "File \u001b[0;32m~/miniconda3/envs/text_super_resol/lib/python3.13/site-packages/matplotlib/image.py:1634\u001b[0m, in \u001b[0;36mimsave\u001b[0;34m(fname, arr, vmin, vmax, cmap, format, origin, dpi, metadata, pil_kwargs)\u001b[0m\n\u001b[1;32m   1632\u001b[0m pil_kwargs\u001b[38;5;241m.\u001b[39msetdefault(\u001b[38;5;124m\"\u001b[39m\u001b[38;5;124mformat\u001b[39m\u001b[38;5;124m\"\u001b[39m, \u001b[38;5;28mformat\u001b[39m)\n\u001b[1;32m   1633\u001b[0m pil_kwargs\u001b[38;5;241m.\u001b[39msetdefault(\u001b[38;5;124m\"\u001b[39m\u001b[38;5;124mdpi\u001b[39m\u001b[38;5;124m\"\u001b[39m, (dpi, dpi))\n\u001b[0;32m-> 1634\u001b[0m \u001b[43mimage\u001b[49m\u001b[38;5;241;43m.\u001b[39;49m\u001b[43msave\u001b[49m\u001b[43m(\u001b[49m\u001b[43mfname\u001b[49m\u001b[43m,\u001b[49m\u001b[43m \u001b[49m\u001b[38;5;241;43m*\u001b[39;49m\u001b[38;5;241;43m*\u001b[39;49m\u001b[43mpil_kwargs\u001b[49m\u001b[43m)\u001b[49m\n",
      "File \u001b[0;32m~/miniconda3/envs/text_super_resol/lib/python3.13/site-packages/PIL/Image.py:2591\u001b[0m, in \u001b[0;36mImage.save\u001b[0;34m(self, fp, format, **params)\u001b[0m\n\u001b[1;32m   2589\u001b[0m         fp \u001b[38;5;241m=\u001b[39m builtins\u001b[38;5;241m.\u001b[39mopen(filename, \u001b[38;5;124m\"\u001b[39m\u001b[38;5;124mr+b\u001b[39m\u001b[38;5;124m\"\u001b[39m)\n\u001b[1;32m   2590\u001b[0m     \u001b[38;5;28;01melse\u001b[39;00m:\n\u001b[0;32m-> 2591\u001b[0m         fp \u001b[38;5;241m=\u001b[39m \u001b[43mbuiltins\u001b[49m\u001b[38;5;241;43m.\u001b[39;49m\u001b[43mopen\u001b[49m\u001b[43m(\u001b[49m\u001b[43mfilename\u001b[49m\u001b[43m,\u001b[49m\u001b[43m \u001b[49m\u001b[38;5;124;43m\"\u001b[39;49m\u001b[38;5;124;43mw+b\u001b[39;49m\u001b[38;5;124;43m\"\u001b[39;49m\u001b[43m)\u001b[49m\n\u001b[1;32m   2592\u001b[0m \u001b[38;5;28;01melse\u001b[39;00m:\n\u001b[1;32m   2593\u001b[0m     fp \u001b[38;5;241m=\u001b[39m cast(IO[\u001b[38;5;28mbytes\u001b[39m], fp)\n",
      "\u001b[0;31mFileNotFoundError\u001b[0m: [Errno 2] No such file or directory: 'plots/psnr_plot_64_128.png'"
     ]
    },
    {
     "data": {
      "text/plain": [
       "<Figure size 640x480 with 0 Axes>"
      ]
     },
     "metadata": {},
     "output_type": "display_data"
    }
   ],
   "source": [
    "train_model_for_resolution_pairs(64, 128)"
   ]
  },
  {
   "cell_type": "code",
   "execution_count": null,
   "metadata": {},
   "outputs": [
    {
     "name": "stderr",
     "output_type": "stream",
     "text": [
      "Training: 100%|██████████| 67/67 [00:34<00:00,  1.95it/s, loss=0.226, psnr=15.9]\n"
     ]
    },
    {
     "name": "stdout",
     "output_type": "stream",
     "text": [
      "[Epoch 1/30] Train Loss: 9.4055, PSNR: 6.08 | Val Loss: 0.2283, PSNR: 15.72 | lr: 0.01\n",
      "Model checkpoint saved at ckpt/ckpt_0\n"
     ]
    },
    {
     "name": "stderr",
     "output_type": "stream",
     "text": [
      "Training: 100%|██████████| 67/67 [00:27<00:00,  2.41it/s, loss=0.193, psnr=16.3]\n"
     ]
    },
    {
     "name": "stdout",
     "output_type": "stream",
     "text": [
      "[Epoch 2/30] Train Loss: 0.2054, PSNR: 16.15 | Val Loss: 0.1873, PSNR: 16.52 | lr: 0.01\n",
      "Model checkpoint saved at ckpt/ckpt_3\n",
      "Saved 5 samples at epoch 3 to samples_128_256/epoch_3_samples.png\n",
      "Model checkpoint saved at ckpt/ckpt_0\n"
     ]
    },
    {
     "name": "stderr",
     "output_type": "stream",
     "text": [
      "Training: 100%|██████████| 67/67 [00:27<00:00,  2.42it/s, loss=0.152, psnr=17.1]\n"
     ]
    },
    {
     "name": "stdout",
     "output_type": "stream",
     "text": [
      "[Epoch 3/30] Train Loss: 0.1650, PSNR: 16.85 | Val Loss: 0.1488, PSNR: 17.28 | lr: 0.01\n",
      "Model checkpoint saved at ckpt/ckpt_0\n"
     ]
    },
    {
     "name": "stderr",
     "output_type": "stream",
     "text": [
      "Training: 100%|██████████| 67/67 [00:28<00:00,  2.38it/s, loss=0.143, psnr=17.4]\n"
     ]
    },
    {
     "name": "stdout",
     "output_type": "stream",
     "text": [
      "[Epoch 4/30] Train Loss: 0.1439, PSNR: 17.42 | Val Loss: 0.1384, PSNR: 17.68 | lr: 0.01\n",
      "Model checkpoint saved at ckpt/ckpt_5\n",
      "Saved 5 samples at epoch 5 to samples_128_256/epoch_5_samples.png\n",
      "Model checkpoint saved at ckpt/ckpt_0\n"
     ]
    },
    {
     "name": "stderr",
     "output_type": "stream",
     "text": [
      "Training: 100%|██████████| 67/67 [00:27<00:00,  2.43it/s, loss=0.127, psnr=17.9]\n"
     ]
    },
    {
     "name": "stdout",
     "output_type": "stream",
     "text": [
      "[Epoch 5/30] Train Loss: 0.1312, PSNR: 17.86 | Val Loss: 0.1262, PSNR: 18.07 | lr: 0.01\n",
      "Model checkpoint saved at ckpt/ckpt_0\n"
     ]
    },
    {
     "name": "stderr",
     "output_type": "stream",
     "text": [
      "Training: 100%|██████████| 67/67 [00:27<00:00,  2.45it/s, loss=0.113, psnr=18.5]\n"
     ]
    },
    {
     "name": "stdout",
     "output_type": "stream",
     "text": [
      "[Epoch 6/30] Train Loss: 0.1179, PSNR: 18.34 | Val Loss: 0.1135, PSNR: 18.51 | lr: 0.005\n",
      "Model checkpoint saved at ckpt/ckpt_7\n",
      "Saved 5 samples at epoch 7 to samples_128_256/epoch_7_samples.png\n",
      "Model checkpoint saved at ckpt/ckpt_0\n"
     ]
    },
    {
     "name": "stderr",
     "output_type": "stream",
     "text": [
      "Training: 100%|██████████| 67/67 [00:28<00:00,  2.34it/s, loss=0.103, psnr=19]   \n"
     ]
    },
    {
     "name": "stdout",
     "output_type": "stream",
     "text": [
      "[Epoch 7/30] Train Loss: 0.1111, PSNR: 18.63 | Val Loss: 0.1107, PSNR: 18.70 | lr: 0.005\n",
      "Model checkpoint saved at ckpt/ckpt_0\n"
     ]
    },
    {
     "name": "stderr",
     "output_type": "stream",
     "text": [
      "Training: 100%|██████████| 67/67 [00:27<00:00,  2.41it/s, loss=0.106, psnr=18.9] \n"
     ]
    },
    {
     "name": "stdout",
     "output_type": "stream",
     "text": [
      "[Epoch 8/30] Train Loss: 0.1065, PSNR: 18.85 | Val Loss: 0.1045, PSNR: 18.95 | lr: 0.005\n",
      "Model checkpoint saved at ckpt/ckpt_9\n",
      "Saved 5 samples at epoch 9 to samples_128_256/epoch_9_samples.png\n",
      "Model checkpoint saved at ckpt/ckpt_0\n"
     ]
    },
    {
     "name": "stderr",
     "output_type": "stream",
     "text": [
      "Training: 100%|██████████| 67/67 [00:27<00:00,  2.40it/s, loss=0.11, psnr=18.9]  \n"
     ]
    },
    {
     "name": "stdout",
     "output_type": "stream",
     "text": [
      "[Epoch 9/30] Train Loss: 0.1016, PSNR: 19.10 | Val Loss: 0.1116, PSNR: 18.80 | lr: 0.005\n"
     ]
    },
    {
     "name": "stderr",
     "output_type": "stream",
     "text": [
      "Training: 100%|██████████| 67/67 [00:27<00:00,  2.43it/s, loss=0.0945, psnr=19.5]\n"
     ]
    },
    {
     "name": "stdout",
     "output_type": "stream",
     "text": [
      "[Epoch 10/30] Train Loss: 0.0977, PSNR: 19.29 | Val Loss: 0.0948, PSNR: 19.41 | lr: 0.0025\n",
      "Model checkpoint saved at ckpt/ckpt_11\n",
      "Saved 5 samples at epoch 11 to samples_128_256/epoch_11_samples.png\n",
      "Model checkpoint saved at ckpt/ckpt_0\n"
     ]
    },
    {
     "name": "stderr",
     "output_type": "stream",
     "text": [
      "Training: 100%|██████████| 67/67 [00:27<00:00,  2.40it/s, loss=0.0887, psnr=19.7]\n"
     ]
    },
    {
     "name": "stdout",
     "output_type": "stream",
     "text": [
      "[Epoch 11/30] Train Loss: 0.0937, PSNR: 19.48 | Val Loss: 0.0924, PSNR: 19.55 | lr: 0.0025\n",
      "Model checkpoint saved at ckpt/ckpt_0\n"
     ]
    },
    {
     "name": "stderr",
     "output_type": "stream",
     "text": [
      "Training: 100%|██████████| 67/67 [00:27<00:00,  2.45it/s, loss=0.0841, psnr=20]  \n"
     ]
    },
    {
     "name": "stdout",
     "output_type": "stream",
     "text": [
      "[Epoch 12/30] Train Loss: 0.0915, PSNR: 19.61 | Val Loss: 0.0904, PSNR: 19.64 | lr: 0.0025\n",
      "Model checkpoint saved at ckpt/ckpt_13\n",
      "Saved 5 samples at epoch 13 to samples_128_256/epoch_13_samples.png\n",
      "Model checkpoint saved at ckpt/ckpt_0\n"
     ]
    },
    {
     "name": "stderr",
     "output_type": "stream",
     "text": [
      "Training: 100%|██████████| 67/67 [00:27<00:00,  2.43it/s, loss=0.0866, psnr=19.9]\n"
     ]
    },
    {
     "name": "stdout",
     "output_type": "stream",
     "text": [
      "[Epoch 13/30] Train Loss: 0.0894, PSNR: 19.72 | Val Loss: 0.0879, PSNR: 19.80 | lr: 0.0025\n",
      "Model checkpoint saved at ckpt/ckpt_0\n"
     ]
    },
    {
     "name": "stderr",
     "output_type": "stream",
     "text": [
      "Training: 100%|██████████| 67/67 [00:27<00:00,  2.45it/s, loss=0.094, psnr=19.5] \n"
     ]
    },
    {
     "name": "stdout",
     "output_type": "stream",
     "text": [
      "[Epoch 14/30] Train Loss: 0.0870, PSNR: 19.85 | Val Loss: 0.0862, PSNR: 19.89 | lr: 0.00125\n",
      "Model checkpoint saved at ckpt/ckpt_15\n",
      "Saved 5 samples at epoch 15 to samples_128_256/epoch_15_samples.png\n",
      "Model checkpoint saved at ckpt/ckpt_0\n"
     ]
    },
    {
     "name": "stderr",
     "output_type": "stream",
     "text": [
      "Training: 100%|██████████| 67/67 [00:27<00:00,  2.43it/s, loss=0.0853, psnr=20]  \n"
     ]
    },
    {
     "name": "stdout",
     "output_type": "stream",
     "text": [
      "[Epoch 15/30] Train Loss: 0.0858, PSNR: 19.92 | Val Loss: 0.0854, PSNR: 19.94 | lr: 0.00125\n",
      "Model checkpoint saved at ckpt/ckpt_0\n"
     ]
    },
    {
     "name": "stderr",
     "output_type": "stream",
     "text": [
      "Training: 100%|██████████| 67/67 [00:27<00:00,  2.46it/s, loss=0.0902, psnr=19.7]\n"
     ]
    },
    {
     "name": "stdout",
     "output_type": "stream",
     "text": [
      "[Epoch 16/30] Train Loss: 0.0847, PSNR: 19.98 | Val Loss: 0.0839, PSNR: 20.03 | lr: 0.00125\n",
      "Model checkpoint saved at ckpt/ckpt_17\n",
      "Saved 5 samples at epoch 17 to samples_128_256/epoch_17_samples.png\n",
      "Model checkpoint saved at ckpt/ckpt_0\n"
     ]
    },
    {
     "name": "stderr",
     "output_type": "stream",
     "text": [
      "Training: 100%|██████████| 67/67 [00:28<00:00,  2.35it/s, loss=0.0884, psnr=19.8]\n"
     ]
    },
    {
     "name": "stdout",
     "output_type": "stream",
     "text": [
      "[Epoch 17/30] Train Loss: 0.0835, PSNR: 20.05 | Val Loss: 0.0829, PSNR: 20.09 | lr: 0.00125\n",
      "Model checkpoint saved at ckpt/ckpt_0\n"
     ]
    },
    {
     "name": "stderr",
     "output_type": "stream",
     "text": [
      "Training: 100%|██████████| 67/67 [00:27<00:00,  2.43it/s, loss=0.076, psnr=20.5] \n"
     ]
    },
    {
     "name": "stdout",
     "output_type": "stream",
     "text": [
      "[Epoch 18/30] Train Loss: 0.0824, PSNR: 20.12 | Val Loss: 0.0821, PSNR: 20.14 | lr: 0.00063\n",
      "Model checkpoint saved at ckpt/ckpt_19\n",
      "Saved 5 samples at epoch 19 to samples_128_256/epoch_19_samples.png\n",
      "Model checkpoint saved at ckpt/ckpt_0\n"
     ]
    },
    {
     "name": "stderr",
     "output_type": "stream",
     "text": [
      "Training: 100%|██████████| 67/67 [00:27<00:00,  2.43it/s, loss=0.0755, psnr=20.5]\n"
     ]
    },
    {
     "name": "stdout",
     "output_type": "stream",
     "text": [
      "[Epoch 19/30] Train Loss: 0.0819, PSNR: 20.15 | Val Loss: 0.0814, PSNR: 20.17 | lr: 0.00063\n",
      "Model checkpoint saved at ckpt/ckpt_0\n"
     ]
    },
    {
     "name": "stderr",
     "output_type": "stream",
     "text": [
      "Training: 100%|██████████| 67/67 [00:27<00:00,  2.44it/s, loss=0.0797, psnr=20.3]\n"
     ]
    },
    {
     "name": "stdout",
     "output_type": "stream",
     "text": [
      "[Epoch 20/30] Train Loss: 0.0814, PSNR: 20.18 | Val Loss: 0.0809, PSNR: 20.20 | lr: 0.00063\n",
      "Model checkpoint saved at ckpt/ckpt_21\n",
      "Saved 5 samples at epoch 21 to samples_128_256/epoch_21_samples.png\n",
      "Model checkpoint saved at ckpt/ckpt_0\n"
     ]
    },
    {
     "name": "stderr",
     "output_type": "stream",
     "text": [
      "Training: 100%|██████████| 67/67 [00:27<00:00,  2.41it/s, loss=0.0764, psnr=20.5]\n"
     ]
    },
    {
     "name": "stdout",
     "output_type": "stream",
     "text": [
      "[Epoch 21/30] Train Loss: 0.0807, PSNR: 20.22 | Val Loss: 0.0805, PSNR: 20.23 | lr: 0.00063\n",
      "Model checkpoint saved at ckpt/ckpt_0\n"
     ]
    },
    {
     "name": "stderr",
     "output_type": "stream",
     "text": [
      "Training: 100%|██████████| 67/67 [00:27<00:00,  2.42it/s, loss=0.0764, psnr=20.5]\n"
     ]
    },
    {
     "name": "stdout",
     "output_type": "stream",
     "text": [
      "[Epoch 22/30] Train Loss: 0.0802, PSNR: 20.25 | Val Loss: 0.0800, PSNR: 20.26 | lr: 0.00031\n",
      "Model checkpoint saved at ckpt/ckpt_23\n",
      "Saved 5 samples at epoch 23 to samples_128_256/epoch_23_samples.png\n",
      "Model checkpoint saved at ckpt/ckpt_0\n"
     ]
    },
    {
     "name": "stderr",
     "output_type": "stream",
     "text": [
      "Training: 100%|██████████| 67/67 [00:27<00:00,  2.40it/s, loss=0.0804, psnr=20.3]\n"
     ]
    },
    {
     "name": "stdout",
     "output_type": "stream",
     "text": [
      "[Epoch 23/30] Train Loss: 0.0799, PSNR: 20.27 | Val Loss: 0.0797, PSNR: 20.28 | lr: 0.00031\n",
      "Model checkpoint saved at ckpt/ckpt_0\n"
     ]
    },
    {
     "name": "stderr",
     "output_type": "stream",
     "text": [
      "Training: 100%|██████████| 67/67 [00:27<00:00,  2.42it/s, loss=0.0795, psnr=20.3]\n"
     ]
    },
    {
     "name": "stdout",
     "output_type": "stream",
     "text": [
      "[Epoch 24/30] Train Loss: 0.0795, PSNR: 20.29 | Val Loss: 0.0793, PSNR: 20.30 | lr: 0.00031\n",
      "Model checkpoint saved at ckpt/ckpt_25\n",
      "Saved 5 samples at epoch 25 to samples_128_256/epoch_25_samples.png\n",
      "Model checkpoint saved at ckpt/ckpt_0\n"
     ]
    },
    {
     "name": "stderr",
     "output_type": "stream",
     "text": [
      "Training: 100%|██████████| 67/67 [00:28<00:00,  2.39it/s, loss=0.0783, psnr=20.4]\n"
     ]
    },
    {
     "name": "stdout",
     "output_type": "stream",
     "text": [
      "[Epoch 25/30] Train Loss: 0.0793, PSNR: 20.31 | Val Loss: 0.0792, PSNR: 20.32 | lr: 0.00031\n",
      "Model checkpoint saved at ckpt/ckpt_0\n"
     ]
    },
    {
     "name": "stderr",
     "output_type": "stream",
     "text": [
      "Training: 100%|██████████| 67/67 [00:58<00:00,  1.15it/s, loss=0.0834, psnr=20.1]\n"
     ]
    },
    {
     "name": "stdout",
     "output_type": "stream",
     "text": [
      "[Epoch 26/30] Train Loss: 0.0790, PSNR: 20.33 | Val Loss: 0.0788, PSNR: 20.33 | lr: 0.00016\n",
      "Model checkpoint saved at ckpt/ckpt_27\n",
      "Saved 5 samples at epoch 27 to samples_128_256/epoch_27_samples.png\n",
      "Model checkpoint saved at ckpt/ckpt_0\n"
     ]
    },
    {
     "name": "stderr",
     "output_type": "stream",
     "text": [
      "Training: 100%|██████████| 67/67 [00:30<00:00,  2.21it/s, loss=0.0776, psnr=20.4]\n"
     ]
    },
    {
     "name": "stdout",
     "output_type": "stream",
     "text": [
      "[Epoch 27/30] Train Loss: 0.0788, PSNR: 20.34 | Val Loss: 0.0787, PSNR: 20.34 | lr: 0.00016\n",
      "Model checkpoint saved at ckpt/ckpt_0\n"
     ]
    },
    {
     "name": "stderr",
     "output_type": "stream",
     "text": [
      "Training: 100%|██████████| 67/67 [05:27<00:00,  4.88s/it, loss=0.0819, psnr=20.2]  \n"
     ]
    },
    {
     "name": "stdout",
     "output_type": "stream",
     "text": [
      "[Epoch 28/30] Train Loss: 0.0786, PSNR: 20.35 | Val Loss: 0.0785, PSNR: 20.35 | lr: 0.00016\n",
      "Model checkpoint saved at ckpt/ckpt_29\n",
      "Saved 5 samples at epoch 29 to samples_128_256/epoch_29_samples.png\n",
      "Model checkpoint saved at ckpt/ckpt_0\n"
     ]
    },
    {
     "name": "stderr",
     "output_type": "stream",
     "text": [
      "Training: 100%|██████████| 67/67 [00:55<00:00,  1.21it/s, loss=0.0782, psnr=20.4]\n"
     ]
    },
    {
     "name": "stdout",
     "output_type": "stream",
     "text": [
      "[Epoch 29/30] Train Loss: 0.0785, PSNR: 20.36 | Val Loss: 0.0784, PSNR: 20.35 | lr: 0.00016\n",
      "Model checkpoint saved at ckpt/ckpt_0\n"
     ]
    },
    {
     "name": "stderr",
     "output_type": "stream",
     "text": [
      "Training: 100%|██████████| 67/67 [00:27<00:00,  2.42it/s, loss=0.0795, psnr=20.3]\n"
     ]
    },
    {
     "name": "stdout",
     "output_type": "stream",
     "text": [
      "[Epoch 30/30] Train Loss: 0.0783, PSNR: 20.37 | Val Loss: 0.0782, PSNR: 20.37 | lr: 8e-05\n",
      "Model checkpoint saved at ckpt/ckpt_31\n",
      "Saved 5 samples at epoch 31 to samples_128_256/epoch_31_samples.png\n",
      "Model checkpoint saved at ckpt/ckpt_0\n"
     ]
    }
   ],
   "source": [
    "train_model_for_resolution_pairs(128, 256)"
   ]
  },
  {
   "cell_type": "code",
   "execution_count": null,
   "metadata": {},
   "outputs": [
    {
     "name": "stderr",
     "output_type": "stream",
     "text": [
      "Training: 100%|██████████| 67/67 [2:36:16<00:00, 139.94s/it, loss=0.135, psnr=19.4]   \n"
     ]
    },
    {
     "name": "stdout",
     "output_type": "stream",
     "text": [
      "[Epoch 1/30] Train Loss: 19.0649, PSNR: -2.96 | Val Loss: 0.1273, PSNR: 20.24 | lr: 0.01\n",
      "Model checkpoint saved at ckpt/ckpt_0\n"
     ]
    },
    {
     "name": "stderr",
     "output_type": "stream",
     "text": [
      "Training: 100%|██████████| 67/67 [41:02<00:00, 36.76s/it, loss=0.16, psnr=16.9]  \n"
     ]
    },
    {
     "name": "stdout",
     "output_type": "stream",
     "text": [
      "[Epoch 2/30] Train Loss: 0.2267, PSNR: 17.36 | Val Loss: 0.3321, PSNR: 10.29 | lr: 0.01\n",
      "Model checkpoint saved at ckpt/ckpt_3\n",
      "Saved 5 samples at epoch 3 to samples_256_512/epoch_3_samples.png\n"
     ]
    },
    {
     "name": "stderr",
     "output_type": "stream",
     "text": [
      "Training: 100%|██████████| 67/67 [1:00:27<00:00, 54.15s/it, loss=0.1, psnr=21.7]    \n"
     ]
    },
    {
     "name": "stdout",
     "output_type": "stream",
     "text": [
      "[Epoch 3/30] Train Loss: 0.1504, PSNR: 19.41 | Val Loss: 0.1403, PSNR: 19.20 | lr: 0.01\n"
     ]
    },
    {
     "name": "stderr",
     "output_type": "stream",
     "text": [
      "Training: 100%|██████████| 67/67 [1:33:15<00:00, 83.52s/it, loss=0.112, psnr=20.8]   \n"
     ]
    },
    {
     "name": "stdout",
     "output_type": "stream",
     "text": [
      "[Epoch 4/30] Train Loss: 0.2149, PSNR: 16.72 | Val Loss: 0.1202, PSNR: 20.77 | lr: 0.01\n",
      "Model checkpoint saved at ckpt/ckpt_5\n",
      "Saved 5 samples at epoch 5 to samples_256_512/epoch_5_samples.png\n",
      "Model checkpoint saved at ckpt/ckpt_0\n"
     ]
    },
    {
     "name": "stderr",
     "output_type": "stream",
     "text": [
      "Training: 100%|██████████| 67/67 [57:10<00:00, 51.21s/it, loss=0.139, psnr=19.6]   \n"
     ]
    },
    {
     "name": "stdout",
     "output_type": "stream",
     "text": [
      "[Epoch 5/30] Train Loss: 1.0411, PSNR: 11.72 | Val Loss: 0.1432, PSNR: 19.02 | lr: 0.01\n"
     ]
    },
    {
     "name": "stderr",
     "output_type": "stream",
     "text": [
      "Training: 100%|██████████| 67/67 [1:18:47<00:00, 70.57s/it, loss=0.0949, psnr=21.7] \n"
     ]
    },
    {
     "name": "stdout",
     "output_type": "stream",
     "text": [
      "[Epoch 6/30] Train Loss: 0.3516, PSNR: 18.81 | Val Loss: 0.0965, PSNR: 21.19 | lr: 0.01\n",
      "Model checkpoint saved at ckpt/ckpt_7\n",
      "Saved 5 samples at epoch 7 to samples_256_512/epoch_7_samples.png\n",
      "Model checkpoint saved at ckpt/ckpt_0\n"
     ]
    },
    {
     "name": "stderr",
     "output_type": "stream",
     "text": [
      "Training: 100%|██████████| 67/67 [40:51<00:00, 36.58s/it, loss=0.0752, psnr=22]  \n"
     ]
    },
    {
     "name": "stdout",
     "output_type": "stream",
     "text": [
      "[Epoch 7/30] Train Loss: 0.0806, PSNR: 22.01 | Val Loss: 0.0748, PSNR: 22.15 | lr: 0.005\n",
      "Model checkpoint saved at ckpt/ckpt_0\n"
     ]
    },
    {
     "name": "stderr",
     "output_type": "stream",
     "text": [
      "Training: 100%|██████████| 67/67 [1:46:44<00:00, 95.60s/it, loss=0.0529, psnr=23.4]   \n"
     ]
    }
   ],
   "source": [
    "train_model_for_resolution_pairs(256, 512)"
   ]
  }
 ],
 "metadata": {
  "kernelspec": {
   "display_name": "text_super_resol",
   "language": "python",
   "name": "python3"
  },
  "language_info": {
   "codemirror_mode": {
    "name": "ipython",
    "version": 3
   },
   "file_extension": ".py",
   "mimetype": "text/x-python",
   "name": "python",
   "nbconvert_exporter": "python",
   "pygments_lexer": "ipython3",
   "version": "3.13.2"
  }
 },
 "nbformat": 4,
 "nbformat_minor": 2
}
