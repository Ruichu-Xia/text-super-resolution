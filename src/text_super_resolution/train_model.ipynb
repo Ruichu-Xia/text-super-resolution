{
 "cells": [
  {
   "cell_type": "code",
   "execution_count": 1,
   "metadata": {},
   "outputs": [],
   "source": [
    "import os\n",
    "import json\n",
    "import seaborn as sns\n",
    "import matplotlib.pyplot as plt\n",
    "\n",
    "import numpy as np\n",
    "from PIL import Image\n",
    "import torch\n",
    "import torch.nn as nn\n",
    "import torch.nn.functional as F\n",
    "import torch.optim as optim\n",
    "from torch.utils.data import DataLoader\n",
    "\n",
    "from data_utils.dataset import LocalImageDataset, get_split_indices\n",
    "from model.ResNetSR import ResNetSR\n",
    "from model.utils import get_device, train_model_single_epoch, validate_model_single_epoch, save_checkpoint, save_samples, CombinedLoss"
   ]
  },
  {
   "cell_type": "code",
   "execution_count": 2,
   "metadata": {},
   "outputs": [],
   "source": [
    "with open(\"data/test_indices.json\", \"r\") as f:\n",
    "    test_indices = json.load(f)"
   ]
  },
  {
   "cell_type": "code",
   "execution_count": 3,
   "metadata": {},
   "outputs": [
    {
     "data": {
      "text/plain": [
       "594"
      ]
     },
     "execution_count": 3,
     "metadata": {},
     "output_type": "execute_result"
    }
   ],
   "source": [
    "len(test_indices)"
   ]
  },
  {
   "cell_type": "code",
   "execution_count": 4,
   "metadata": {},
   "outputs": [],
   "source": [
    "INPUT_DIR = \"data/resolution_128\"\n",
    "TARGET_DIR = \"data/resolution_512\"\n",
    "NUM_EPOCHS = 30\n",
    "BATCH_SIZE = 64\n",
    "LEARNING_RATE = 0.01\n",
    "\n",
    "GRAD_CLIP = 1\n",
    "EDGE_WEIGHT = 0.3\n",
    "PSNR_WEIGHT = 0.3\n",
    "\n",
    "history = {\n",
    "    \"train_loss\": [],\n",
    "    \"train_psnr\": [],\n",
    "    \"val_loss\": [],\n",
    "    \"val_psnr\": []\n",
    "}"
   ]
  },
  {
   "cell_type": "code",
   "execution_count": 5,
   "metadata": {},
   "outputs": [],
   "source": [
    "num_images = len([f for f in os.listdir(INPUT_DIR) if f.endswith(('.jpg', '.png', '.jpeg', '.webp'))])\n",
    "train_indices, val_indices = get_split_indices(num_images, test_indices)\n",
    "\n",
    "train_loader = DataLoader(LocalImageDataset(INPUT_DIR, TARGET_DIR, train_indices), batch_size=BATCH_SIZE, shuffle=True)\n",
    "val_loader = DataLoader(LocalImageDataset(INPUT_DIR, TARGET_DIR, val_indices), batch_size=BATCH_SIZE, shuffle=False)\n",
    "test_loader = DataLoader(LocalImageDataset(INPUT_DIR, TARGET_DIR, test_indices), batch_size=BATCH_SIZE, shuffle=False)"
   ]
  },
  {
   "cell_type": "code",
   "execution_count": 6,
   "metadata": {},
   "outputs": [],
   "source": [
    "best_val_loss = float('inf')\n",
    "\n",
    "save_ckpt = 2\n",
    "checkpoint_dir = \"ckpt\"\n",
    "\n",
    "n_samples = 5\n",
    "samples_to_visualize = DataLoader(LocalImageDataset(INPUT_DIR, TARGET_DIR, test_indices), batch_size=n_samples, shuffle=False)\n",
    "\n",
    "sample_dir = \"samples\"\n",
    "\n",
    "train_losses = []\n",
    "val_losses = []"
   ]
  },
  {
   "cell_type": "code",
   "execution_count": 7,
   "metadata": {},
   "outputs": [],
   "source": [
    "device = get_device()\n",
    "model = ResNetSR(upscale_factor=4, num_res_blocks=2, num_channels=1, num_features=32)\n",
    "model = model.to(device)\n",
    "mae_loss = nn.L1Loss()\n",
    "criterion = CombinedLoss(mae_loss, EDGE_WEIGHT)\n",
    "optimizer = optim.AdamW(model.parameters(), lr=LEARNING_RATE)\n",
    "scheduler = torch.optim.lr_scheduler.ReduceLROnPlateau(optimizer, mode='min', factor=0.5, patience=60)"
   ]
  },
  {
   "cell_type": "code",
   "execution_count": null,
   "metadata": {},
   "outputs": [
    {
     "name": "stderr",
     "output_type": "stream",
     "text": [
      "Training:   4%|▍         | 3/67 [00:44<20:33, 19.28s/it, loss=10.6, psnr=-15.9]"
     ]
    }
   ],
   "source": [
    "history = {\n",
    "    \"train_loss\": [],\n",
    "    \"train_psnr\": [],\n",
    "    \"val_loss\": [],\n",
    "    \"val_psnr\": []\n",
    "}\n",
    "\n",
    "for epoch in range(1, 2):\n",
    "    train_loss, train_psnr = train_model_single_epoch(model, train_loader, criterion, optimizer, device, scaler=None, grad_clip=GRAD_CLIP)\n",
    "    val_loss, val_psnr = validate_model_single_epoch(model, val_loader, criterion, device)\n",
    "    current_lr = scheduler.get_last_lr()[0]\n",
    "    print(f\"[Epoch {epoch}/{NUM_EPOCHS}]\",\n",
    "            f\"Train Loss: {train_loss:.4f}, PSNR: {train_psnr:.2f} | \"\n",
    "            f\"Val Loss: {val_loss:.4f}, PSNR: {val_psnr:.2f} | \"\n",
    "            f\"lr: {round(current_lr, 5)}\")\n",
    "\n",
    "    if epoch % save_ckpt == 0:\n",
    "        save_checkpoint(epoch+1, model, optimizer, history, checkpoint_dir)\n",
    "\n",
    "        save_samples(epoch+1, model, val_loader, device, sample_dir, samples_to_visualize)\n",
    "\n",
    "    if val_loss < best_val_loss:\n",
    "        best_val_loss = val_loss\n",
    "        save_checkpoint(0, model, optimizer, history, checkpoint_dir)\n",
    "\n",
    "    scheduler.step(val_loss)\n",
    "\n",
    "    history[\"train_loss\"].append(train_loss)\n",
    "    history[\"train_psnr\"].append(train_psnr)\n",
    "    history[\"val_loss\"].append(val_loss)\n",
    "    history[\"val_psnr\"].append(val_psnr)"
   ]
  },
  {
   "cell_type": "code",
   "execution_count": null,
   "metadata": {},
   "outputs": [],
   "source": [
    "# def train_model_for_resolution_pairs(resol_1, resol_2, psnr_weight=PSNR_WEIGHT):\n",
    "#     INPUT_DIR = f\"data/resolution_{resol_1}\"\n",
    "#     TARGET_DIR = f\"data/resolution_{resol_2}\"\n",
    "\n",
    "#     num_images = len([f for f in os.listdir(INPUT_DIR) if f.endswith(('.jpg', '.png', '.jpeg', '.webp'))])\n",
    "#     train_indices, val_indices = get_split_indices(num_images, test_indices)\n",
    "\n",
    "#     train_loader = DataLoader(LocalImageDataset(INPUT_DIR, TARGET_DIR, train_indices), batch_size=BATCH_SIZE, shuffle=True)\n",
    "#     val_loader = DataLoader(LocalImageDataset(INPUT_DIR, TARGET_DIR, val_indices), batch_size=BATCH_SIZE, shuffle=False)\n",
    "#     test_loader = DataLoader(LocalImageDataset(INPUT_DIR, TARGET_DIR, test_indices), batch_size=BATCH_SIZE, shuffle=False)\n",
    "\n",
    "#     best_val_loss = float('inf')\n",
    "\n",
    "#     save_ckpt = 2\n",
    "#     checkpoint_dir = f\"ckpt/resolution_{resol_1}_{resol_2}\"\n",
    "#     os.makedirs(checkpoint_dir, exist_ok=True)\n",
    "\n",
    "#     n_samples = 5\n",
    "#     samples_to_visualize = DataLoader(LocalImageDataset(INPUT_DIR, TARGET_DIR, test_indices), batch_size=n_samples, shuffle=False)\n",
    "\n",
    "#     sample_dir = f\"samples_{resol_1}_{resol_2}\"\n",
    "\n",
    "\n",
    "#     device = get_device()\n",
    "#     model = ResNetSR(upscale_factor=2, num_res_blocks=2, num_channels=1, num_features=32)\n",
    "#     model = model.to(device)\n",
    "#     mae_loss = nn.L1Loss()\n",
    "#     criterion = CombinedLoss(mae_loss, EDGE_WEIGHT, psnr_weight)\n",
    "#     optimizer = optim.AdamW(model.parameters(), lr=LEARNING_RATE)\n",
    "#     scheduler = torch.optim.lr_scheduler.ReduceLROnPlateau(\n",
    "#         optimizer, \n",
    "#         mode='max',  # Focus on maximizing PSNR\n",
    "#         factor=.2,  # More aggressive reduction\n",
    "#         patience=2,   # Reduce LR sooner\n",
    "#         threshold=0.01,  # Smaller threshold for improvement\n",
    "#         verbose=True\n",
    "#     )\n",
    "\n",
    "#     for epoch in range(1, NUM_EPOCHS + 1):\n",
    "#         train_loss, train_psnr = train_model_single_epoch(model, train_loader, criterion, optimizer, device, scaler=None, grad_clip=GRAD_CLIP)\n",
    "#         val_loss, val_psnr = validate_model_single_epoch(model, val_loader, criterion, device)\n",
    "#         current_lr = scheduler.get_last_lr()[0]\n",
    "#         print(f\"[Epoch {epoch}/{NUM_EPOCHS}]\",\n",
    "#                 f\"Train Loss: {train_loss:.4f}, PSNR: {train_psnr:.2f} | \"\n",
    "#                 f\"Val Loss: {val_loss:.4f}, PSNR: {val_psnr:.2f} | \"\n",
    "#                 f\"lr: {round(current_lr, 5)}\")\n",
    "\n",
    "#         if epoch % save_ckpt == 0:\n",
    "#             save_checkpoint(epoch+1, model, optimizer, history, checkpoint_dir)\n",
    "\n",
    "#             save_samples(epoch+1, model, val_loader, device, sample_dir, samples_to_visualize)\n",
    "\n",
    "#         if val_loss < best_val_loss:\n",
    "#             best_val_loss = val_loss\n",
    "#             save_checkpoint(0, model, optimizer, history, checkpoint_dir)\n",
    "\n",
    "#         scheduler.step(val_loss)\n",
    "\n",
    "#         history[\"train_loss\"].append(train_loss)\n",
    "#         history[\"train_psnr\"].append(train_psnr)\n",
    "#         history[\"val_loss\"].append(val_loss)\n",
    "#         history[\"val_psnr\"].append(val_psnr)\n",
    "\n",
    "#     sns.lineplot(\n",
    "#         x=range(1, epoch + 1),\n",
    "#         y=history[\"train_psnr\"],\n",
    "#         label=\"Train PSNR\",\n",
    "#         color=\"blue\"\n",
    "#     )\n",
    "#     sns.lineplot(\n",
    "#         x=range(1, epoch + 1),\n",
    "#         y=history[\"val_psnr\"],\n",
    "#         label=\"Validation PSNR\",\n",
    "#         color=\"orange\"\n",
    "#     )\n",
    "#     plt.title(\"PSNR over epochs\")\n",
    "#     plt.xlabel(\"Epoch\")\n",
    "#     plt.ylabel(\"PSNR\")\n",
    "#     plt.legend()\n",
    "#     plt.show()\n",
    "\n",
    "#     os.mkdir(\"plots\", exist_ok=True)\n",
    "#     plt.savefig(f\"plots/psnr_plot_{resol_1}_{resol_2}.png\")\n",
    "\n",
    "#     return history"
   ]
  },
  {
   "cell_type": "code",
   "execution_count": 15,
   "metadata": {},
   "outputs": [
    {
     "name": "stdout",
     "output_type": "stream",
     "text": [
      "Training with PSNR weight: 0.1\n"
     ]
    },
    {
     "name": "stderr",
     "output_type": "stream",
     "text": [
      "Training: 100%|██████████| 67/67 [00:09<00:00,  7.40it/s, loss=-1.05, psnr=13.3]  \n"
     ]
    },
    {
     "name": "stdout",
     "output_type": "stream",
     "text": [
      "[Epoch 1/30] Train Loss: 4.2355, PSNR: 2.67 | Val Loss: -0.9931, PSNR: 13.01 | lr: 0.01\n",
      "Model checkpoint saved at ckpt/resolution_64_128/ckpt_0\n"
     ]
    },
    {
     "name": "stderr",
     "output_type": "stream",
     "text": [
      "Training: 100%|██████████| 67/67 [00:08<00:00,  8.21it/s, loss=-1.08, psnr=13.4]\n"
     ]
    },
    {
     "name": "stdout",
     "output_type": "stream",
     "text": [
      "[Epoch 2/30] Train Loss: -1.0885, PSNR: 13.49 | Val Loss: -1.1226, PSNR: 13.71 | lr: 0.01\n",
      "Model checkpoint saved at ckpt/resolution_64_128/ckpt_3\n",
      "Saved 5 samples at epoch 3 to samples_64_128/epoch_3_samples.png\n",
      "Model checkpoint saved at ckpt/resolution_64_128/ckpt_0\n"
     ]
    },
    {
     "name": "stderr",
     "output_type": "stream",
     "text": [
      "Training: 100%|██████████| 67/67 [00:07<00:00,  8.85it/s, loss=-1.1, psnr=13.5] \n"
     ]
    },
    {
     "name": "stdout",
     "output_type": "stream",
     "text": [
      "[Epoch 3/30] Train Loss: -1.1338, PSNR: 13.78 | Val Loss: -1.1521, PSNR: 13.91 | lr: 0.01\n",
      "Model checkpoint saved at ckpt/resolution_64_128/ckpt_0\n"
     ]
    },
    {
     "name": "stderr",
     "output_type": "stream",
     "text": [
      "Training: 100%|██████████| 67/67 [00:07<00:00,  8.82it/s, loss=-1.22, psnr=14.4]\n"
     ]
    },
    {
     "name": "stdout",
     "output_type": "stream",
     "text": [
      "[Epoch 4/30] Train Loss: -1.1365, PSNR: 13.80 | Val Loss: -1.1626, PSNR: 13.94 | lr: 0.01\n",
      "Model checkpoint saved at ckpt/resolution_64_128/ckpt_5\n",
      "Saved 5 samples at epoch 5 to samples_64_128/epoch_5_samples.png\n",
      "Model checkpoint saved at ckpt/resolution_64_128/ckpt_0\n"
     ]
    },
    {
     "name": "stderr",
     "output_type": "stream",
     "text": [
      "Training: 100%|██████████| 67/67 [00:07<00:00,  8.39it/s, loss=-1.18, psnr=14]  \n"
     ]
    },
    {
     "name": "stdout",
     "output_type": "stream",
     "text": [
      "[Epoch 5/30] Train Loss: -1.1758, PSNR: 14.04 | Val Loss: -1.1862, PSNR: 14.10 | lr: 0.002\n",
      "Model checkpoint saved at ckpt/resolution_64_128/ckpt_0\n"
     ]
    },
    {
     "name": "stderr",
     "output_type": "stream",
     "text": [
      "Training: 100%|██████████| 67/67 [00:06<00:00,  9.71it/s, loss=-1.18, psnr=14]  \n"
     ]
    },
    {
     "name": "stdout",
     "output_type": "stream",
     "text": [
      "[Epoch 6/30] Train Loss: -1.1876, PSNR: 14.10 | Val Loss: -1.1903, PSNR: 14.11 | lr: 0.002\n",
      "Model checkpoint saved at ckpt/resolution_64_128/ckpt_7\n",
      "Saved 5 samples at epoch 7 to samples_64_128/epoch_7_samples.png\n",
      "Model checkpoint saved at ckpt/resolution_64_128/ckpt_0\n"
     ]
    },
    {
     "name": "stderr",
     "output_type": "stream",
     "text": [
      "Training: 100%|██████████| 67/67 [00:06<00:00, 10.14it/s, loss=-1.19, psnr=14.1]\n"
     ]
    },
    {
     "name": "stdout",
     "output_type": "stream",
     "text": [
      "[Epoch 7/30] Train Loss: -1.1945, PSNR: 14.14 | Val Loss: -1.1963, PSNR: 14.14 | lr: 0.002\n",
      "Model checkpoint saved at ckpt/resolution_64_128/ckpt_0\n"
     ]
    },
    {
     "name": "stderr",
     "output_type": "stream",
     "text": [
      "Training: 100%|██████████| 67/67 [00:07<00:00,  9.35it/s, loss=-1.21, psnr=14.2]\n"
     ]
    },
    {
     "name": "stdout",
     "output_type": "stream",
     "text": [
      "[Epoch 8/30] Train Loss: -1.2004, PSNR: 14.18 | Val Loss: -1.2028, PSNR: 14.19 | lr: 0.0004\n",
      "Model checkpoint saved at ckpt/resolution_64_128/ckpt_9\n",
      "Saved 5 samples at epoch 9 to samples_64_128/epoch_9_samples.png\n",
      "Model checkpoint saved at ckpt/resolution_64_128/ckpt_0\n"
     ]
    },
    {
     "name": "stderr",
     "output_type": "stream",
     "text": [
      "Training: 100%|██████████| 67/67 [00:07<00:00,  8.91it/s, loss=-1.22, psnr=14.3]\n"
     ]
    },
    {
     "name": "stdout",
     "output_type": "stream",
     "text": [
      "[Epoch 9/30] Train Loss: -1.2023, PSNR: 14.19 | Val Loss: -1.2045, PSNR: 14.20 | lr: 0.0004\n",
      "Model checkpoint saved at ckpt/resolution_64_128/ckpt_0\n"
     ]
    },
    {
     "name": "stderr",
     "output_type": "stream",
     "text": [
      "Training: 100%|██████████| 67/67 [00:07<00:00,  8.62it/s, loss=-1.21, psnr=14.2]\n"
     ]
    },
    {
     "name": "stdout",
     "output_type": "stream",
     "text": [
      "[Epoch 10/30] Train Loss: -1.2036, PSNR: 14.19 | Val Loss: -1.2061, PSNR: 14.21 | lr: 0.0004\n",
      "Model checkpoint saved at ckpt/resolution_64_128/ckpt_11\n",
      "Saved 5 samples at epoch 11 to samples_64_128/epoch_11_samples.png\n",
      "Model checkpoint saved at ckpt/resolution_64_128/ckpt_0\n"
     ]
    },
    {
     "name": "stderr",
     "output_type": "stream",
     "text": [
      "Training: 100%|██████████| 67/67 [00:06<00:00,  9.94it/s, loss=-1.2, psnr=14.2] \n"
     ]
    },
    {
     "name": "stdout",
     "output_type": "stream",
     "text": [
      "[Epoch 11/30] Train Loss: -1.2048, PSNR: 14.20 | Val Loss: -1.2061, PSNR: 14.21 | lr: 8e-05\n"
     ]
    },
    {
     "name": "stderr",
     "output_type": "stream",
     "text": [
      "Training: 100%|██████████| 67/67 [00:06<00:00, 10.25it/s, loss=-1.19, psnr=14.1]\n"
     ]
    },
    {
     "name": "stdout",
     "output_type": "stream",
     "text": [
      "[Epoch 12/30] Train Loss: -1.2051, PSNR: 14.20 | Val Loss: -1.2068, PSNR: 14.21 | lr: 8e-05\n",
      "Model checkpoint saved at ckpt/resolution_64_128/ckpt_13\n",
      "Saved 5 samples at epoch 13 to samples_64_128/epoch_13_samples.png\n",
      "Model checkpoint saved at ckpt/resolution_64_128/ckpt_0\n"
     ]
    },
    {
     "name": "stderr",
     "output_type": "stream",
     "text": [
      "Training: 100%|██████████| 67/67 [00:06<00:00, 10.01it/s, loss=-1.2, psnr=14.2] \n"
     ]
    },
    {
     "name": "stdout",
     "output_type": "stream",
     "text": [
      "[Epoch 13/30] Train Loss: -1.2053, PSNR: 14.20 | Val Loss: -1.2072, PSNR: 14.22 | lr: 8e-05\n",
      "Model checkpoint saved at ckpt/resolution_64_128/ckpt_0\n"
     ]
    },
    {
     "name": "stderr",
     "output_type": "stream",
     "text": [
      "Training: 100%|██████████| 67/67 [00:06<00:00, 10.16it/s, loss=-1.17, psnr=13.9]\n"
     ]
    },
    {
     "name": "stdout",
     "output_type": "stream",
     "text": [
      "[Epoch 14/30] Train Loss: -1.2056, PSNR: 14.21 | Val Loss: -1.2071, PSNR: 14.21 | lr: 2e-05\n",
      "Model checkpoint saved at ckpt/resolution_64_128/ckpt_15\n",
      "Saved 5 samples at epoch 15 to samples_64_128/epoch_15_samples.png\n"
     ]
    },
    {
     "name": "stderr",
     "output_type": "stream",
     "text": [
      "Training: 100%|██████████| 67/67 [00:06<00:00, 10.29it/s, loss=-1.17, psnr=14]  \n"
     ]
    },
    {
     "name": "stdout",
     "output_type": "stream",
     "text": [
      "[Epoch 15/30] Train Loss: -1.2056, PSNR: 14.21 | Val Loss: -1.2071, PSNR: 14.21 | lr: 2e-05\n"
     ]
    },
    {
     "name": "stderr",
     "output_type": "stream",
     "text": [
      "Training: 100%|██████████| 67/67 [00:06<00:00,  9.88it/s, loss=-1.16, psnr=13.9]\n"
     ]
    },
    {
     "name": "stdout",
     "output_type": "stream",
     "text": [
      "[Epoch 16/30] Train Loss: -1.2057, PSNR: 14.21 | Val Loss: -1.2075, PSNR: 14.22 | lr: 2e-05\n",
      "Model checkpoint saved at ckpt/resolution_64_128/ckpt_17\n",
      "Saved 5 samples at epoch 17 to samples_64_128/epoch_17_samples.png\n",
      "Model checkpoint saved at ckpt/resolution_64_128/ckpt_0\n"
     ]
    },
    {
     "name": "stderr",
     "output_type": "stream",
     "text": [
      "Training: 100%|██████████| 67/67 [00:07<00:00,  9.15it/s, loss=-1.18, psnr=14.1]\n"
     ]
    },
    {
     "name": "stdout",
     "output_type": "stream",
     "text": [
      "[Epoch 17/30] Train Loss: -1.2059, PSNR: 14.21 | Val Loss: -1.2072, PSNR: 14.22 | lr: 0.0\n"
     ]
    },
    {
     "name": "stderr",
     "output_type": "stream",
     "text": [
      "Training: 100%|██████████| 67/67 [00:06<00:00, 10.03it/s, loss=-1.24, psnr=14.4]\n"
     ]
    },
    {
     "name": "stdout",
     "output_type": "stream",
     "text": [
      "[Epoch 18/30] Train Loss: -1.2059, PSNR: 14.21 | Val Loss: -1.2073, PSNR: 14.22 | lr: 0.0\n",
      "Model checkpoint saved at ckpt/resolution_64_128/ckpt_19\n",
      "Saved 5 samples at epoch 19 to samples_64_128/epoch_19_samples.png\n"
     ]
    },
    {
     "name": "stderr",
     "output_type": "stream",
     "text": [
      "Training: 100%|██████████| 67/67 [00:06<00:00,  9.89it/s, loss=-1.22, psnr=14.3]\n"
     ]
    },
    {
     "name": "stdout",
     "output_type": "stream",
     "text": [
      "[Epoch 19/30] Train Loss: -1.2059, PSNR: 14.21 | Val Loss: -1.2074, PSNR: 14.22 | lr: 0.0\n"
     ]
    },
    {
     "name": "stderr",
     "output_type": "stream",
     "text": [
      "Training: 100%|██████████| 67/67 [00:07<00:00,  9.52it/s, loss=-1.21, psnr=14.2]\n"
     ]
    },
    {
     "name": "stdout",
     "output_type": "stream",
     "text": [
      "[Epoch 20/30] Train Loss: -1.2060, PSNR: 14.21 | Val Loss: -1.2073, PSNR: 14.22 | lr: 0.0\n",
      "Model checkpoint saved at ckpt/resolution_64_128/ckpt_21\n",
      "Saved 5 samples at epoch 21 to samples_64_128/epoch_21_samples.png\n"
     ]
    },
    {
     "name": "stderr",
     "output_type": "stream",
     "text": [
      "Training: 100%|██████████| 67/67 [00:06<00:00, 10.06it/s, loss=-1.19, psnr=14.1]\n"
     ]
    },
    {
     "name": "stdout",
     "output_type": "stream",
     "text": [
      "[Epoch 21/30] Train Loss: -1.2059, PSNR: 14.21 | Val Loss: -1.2073, PSNR: 14.22 | lr: 0.0\n"
     ]
    },
    {
     "name": "stderr",
     "output_type": "stream",
     "text": [
      "Training: 100%|██████████| 67/67 [00:06<00:00, 10.28it/s, loss=-1.23, psnr=14.3]\n"
     ]
    },
    {
     "name": "stdout",
     "output_type": "stream",
     "text": [
      "[Epoch 22/30] Train Loss: -1.2060, PSNR: 14.21 | Val Loss: -1.2073, PSNR: 14.22 | lr: 0.0\n",
      "Model checkpoint saved at ckpt/resolution_64_128/ckpt_23\n",
      "Saved 5 samples at epoch 23 to samples_64_128/epoch_23_samples.png\n"
     ]
    },
    {
     "name": "stderr",
     "output_type": "stream",
     "text": [
      "Training: 100%|██████████| 67/67 [00:06<00:00,  9.69it/s, loss=-1.25, psnr=14.5]\n"
     ]
    },
    {
     "name": "stdout",
     "output_type": "stream",
     "text": [
      "[Epoch 23/30] Train Loss: -1.2060, PSNR: 14.21 | Val Loss: -1.2073, PSNR: 14.22 | lr: 0.0\n"
     ]
    },
    {
     "name": "stderr",
     "output_type": "stream",
     "text": [
      "Training: 100%|██████████| 67/67 [00:06<00:00, 10.04it/s, loss=-1.23, psnr=14.4]\n"
     ]
    },
    {
     "name": "stdout",
     "output_type": "stream",
     "text": [
      "[Epoch 24/30] Train Loss: -1.2059, PSNR: 14.21 | Val Loss: -1.2073, PSNR: 14.22 | lr: 0.0\n",
      "Model checkpoint saved at ckpt/resolution_64_128/ckpt_25\n",
      "Saved 5 samples at epoch 25 to samples_64_128/epoch_25_samples.png\n"
     ]
    },
    {
     "name": "stderr",
     "output_type": "stream",
     "text": [
      "Training: 100%|██████████| 67/67 [00:06<00:00,  9.88it/s, loss=-1.22, psnr=14.3]\n"
     ]
    },
    {
     "name": "stdout",
     "output_type": "stream",
     "text": [
      "[Epoch 25/30] Train Loss: -1.2061, PSNR: 14.21 | Val Loss: -1.2073, PSNR: 14.22 | lr: 0.0\n"
     ]
    },
    {
     "name": "stderr",
     "output_type": "stream",
     "text": [
      "Training: 100%|██████████| 67/67 [00:06<00:00,  9.73it/s, loss=-1.19, psnr=14.1]\n"
     ]
    },
    {
     "name": "stdout",
     "output_type": "stream",
     "text": [
      "[Epoch 26/30] Train Loss: -1.2059, PSNR: 14.21 | Val Loss: -1.2073, PSNR: 14.22 | lr: 0.0\n",
      "Model checkpoint saved at ckpt/resolution_64_128/ckpt_27\n",
      "Saved 5 samples at epoch 27 to samples_64_128/epoch_27_samples.png\n"
     ]
    },
    {
     "name": "stderr",
     "output_type": "stream",
     "text": [
      "Training: 100%|██████████| 67/67 [00:07<00:00,  9.40it/s, loss=-1.26, psnr=14.5]\n"
     ]
    },
    {
     "name": "stdout",
     "output_type": "stream",
     "text": [
      "[Epoch 27/30] Train Loss: -1.2059, PSNR: 14.21 | Val Loss: -1.2073, PSNR: 14.22 | lr: 0.0\n"
     ]
    },
    {
     "name": "stderr",
     "output_type": "stream",
     "text": [
      "Training: 100%|██████████| 67/67 [00:07<00:00,  9.16it/s, loss=-1.21, psnr=14.2]\n"
     ]
    },
    {
     "name": "stdout",
     "output_type": "stream",
     "text": [
      "[Epoch 28/30] Train Loss: -1.2059, PSNR: 14.21 | Val Loss: -1.2073, PSNR: 14.22 | lr: 0.0\n",
      "Model checkpoint saved at ckpt/resolution_64_128/ckpt_29\n",
      "Saved 5 samples at epoch 29 to samples_64_128/epoch_29_samples.png\n"
     ]
    },
    {
     "name": "stderr",
     "output_type": "stream",
     "text": [
      "Training: 100%|██████████| 67/67 [00:07<00:00,  9.48it/s, loss=-1.22, psnr=14.3]\n"
     ]
    },
    {
     "name": "stdout",
     "output_type": "stream",
     "text": [
      "[Epoch 29/30] Train Loss: -1.2059, PSNR: 14.21 | Val Loss: -1.2073, PSNR: 14.22 | lr: 0.0\n"
     ]
    },
    {
     "name": "stderr",
     "output_type": "stream",
     "text": [
      "Training: 100%|██████████| 67/67 [00:06<00:00, 10.08it/s, loss=-1.19, psnr=14.1]\n"
     ]
    },
    {
     "name": "stdout",
     "output_type": "stream",
     "text": [
      "[Epoch 30/30] Train Loss: -1.2059, PSNR: 14.21 | Val Loss: -1.2073, PSNR: 14.22 | lr: 0.0\n",
      "Model checkpoint saved at ckpt/resolution_64_128/ckpt_31\n",
      "Saved 5 samples at epoch 31 to samples_64_128/epoch_31_samples.png\n"
     ]
    },
    {
     "ename": "ValueError",
     "evalue": "All arrays must be of the same length",
     "output_type": "error",
     "traceback": [
      "\u001b[0;31m---------------------------------------------------------------------------\u001b[0m",
      "\u001b[0;31mValueError\u001b[0m                                Traceback (most recent call last)",
      "Cell \u001b[0;32mIn[15], line 6\u001b[0m\n\u001b[1;32m      4\u001b[0m \u001b[38;5;28;01mfor\u001b[39;00m psnr_weight \u001b[38;5;129;01min\u001b[39;00m psnr_weights:\n\u001b[1;32m      5\u001b[0m     \u001b[38;5;28mprint\u001b[39m(\u001b[38;5;124mf\u001b[39m\u001b[38;5;124m\"\u001b[39m\u001b[38;5;124mTraining with PSNR weight: \u001b[39m\u001b[38;5;132;01m{\u001b[39;00mpsnr_weight\u001b[38;5;132;01m}\u001b[39;00m\u001b[38;5;124m\"\u001b[39m)\n\u001b[0;32m----> 6\u001b[0m     history \u001b[38;5;241m=\u001b[39m \u001b[43mtrain_model_for_resolution_pairs\u001b[49m\u001b[43m(\u001b[49m\u001b[38;5;241;43m64\u001b[39;49m\u001b[43m,\u001b[49m\u001b[43m \u001b[49m\u001b[38;5;241;43m128\u001b[39;49m\u001b[43m,\u001b[49m\u001b[43m \u001b[49m\u001b[43mpsnr_weight\u001b[49m\u001b[38;5;241;43m=\u001b[39;49m\u001b[43mpsnr_weight\u001b[49m\u001b[43m)\u001b[49m\n\u001b[1;32m      7\u001b[0m     results[psnr_weight] \u001b[38;5;241m=\u001b[39m history\n\u001b[1;32m      9\u001b[0m     \u001b[38;5;66;03m# Plotting the results\u001b[39;00m\n",
      "Cell \u001b[0;32mIn[13], line 64\u001b[0m, in \u001b[0;36mtrain_model_for_resolution_pairs\u001b[0;34m(resol_1, resol_2, psnr_weight)\u001b[0m\n\u001b[1;32m     61\u001b[0m     history[\u001b[38;5;124m\"\u001b[39m\u001b[38;5;124mval_loss\u001b[39m\u001b[38;5;124m\"\u001b[39m]\u001b[38;5;241m.\u001b[39mappend(val_loss)\n\u001b[1;32m     62\u001b[0m     history[\u001b[38;5;124m\"\u001b[39m\u001b[38;5;124mval_psnr\u001b[39m\u001b[38;5;124m\"\u001b[39m]\u001b[38;5;241m.\u001b[39mappend(val_psnr)\n\u001b[0;32m---> 64\u001b[0m \u001b[43msns\u001b[49m\u001b[38;5;241;43m.\u001b[39;49m\u001b[43mlineplot\u001b[49m\u001b[43m(\u001b[49m\n\u001b[1;32m     65\u001b[0m \u001b[43m    \u001b[49m\u001b[43mx\u001b[49m\u001b[38;5;241;43m=\u001b[39;49m\u001b[38;5;28;43mrange\u001b[39;49m\u001b[43m(\u001b[49m\u001b[38;5;241;43m1\u001b[39;49m\u001b[43m,\u001b[49m\u001b[43m \u001b[49m\u001b[43mepoch\u001b[49m\u001b[43m \u001b[49m\u001b[38;5;241;43m+\u001b[39;49m\u001b[43m \u001b[49m\u001b[38;5;241;43m1\u001b[39;49m\u001b[43m)\u001b[49m\u001b[43m,\u001b[49m\n\u001b[1;32m     66\u001b[0m \u001b[43m    \u001b[49m\u001b[43my\u001b[49m\u001b[38;5;241;43m=\u001b[39;49m\u001b[43mhistory\u001b[49m\u001b[43m[\u001b[49m\u001b[38;5;124;43m\"\u001b[39;49m\u001b[38;5;124;43mtrain_psnr\u001b[39;49m\u001b[38;5;124;43m\"\u001b[39;49m\u001b[43m]\u001b[49m\u001b[43m,\u001b[49m\n\u001b[1;32m     67\u001b[0m \u001b[43m    \u001b[49m\u001b[43mlabel\u001b[49m\u001b[38;5;241;43m=\u001b[39;49m\u001b[38;5;124;43m\"\u001b[39;49m\u001b[38;5;124;43mTrain PSNR\u001b[39;49m\u001b[38;5;124;43m\"\u001b[39;49m\u001b[43m,\u001b[49m\n\u001b[1;32m     68\u001b[0m \u001b[43m    \u001b[49m\u001b[43mcolor\u001b[49m\u001b[38;5;241;43m=\u001b[39;49m\u001b[38;5;124;43m\"\u001b[39;49m\u001b[38;5;124;43mblue\u001b[39;49m\u001b[38;5;124;43m\"\u001b[39;49m\n\u001b[1;32m     69\u001b[0m \u001b[43m\u001b[49m\u001b[43m)\u001b[49m\n\u001b[1;32m     70\u001b[0m sns\u001b[38;5;241m.\u001b[39mlineplot(\n\u001b[1;32m     71\u001b[0m     x\u001b[38;5;241m=\u001b[39m\u001b[38;5;28mrange\u001b[39m(\u001b[38;5;241m1\u001b[39m, epoch \u001b[38;5;241m+\u001b[39m \u001b[38;5;241m1\u001b[39m),\n\u001b[1;32m     72\u001b[0m     y\u001b[38;5;241m=\u001b[39mhistory[\u001b[38;5;124m\"\u001b[39m\u001b[38;5;124mval_psnr\u001b[39m\u001b[38;5;124m\"\u001b[39m],\n\u001b[1;32m     73\u001b[0m     label\u001b[38;5;241m=\u001b[39m\u001b[38;5;124m\"\u001b[39m\u001b[38;5;124mValidation PSNR\u001b[39m\u001b[38;5;124m\"\u001b[39m,\n\u001b[1;32m     74\u001b[0m     color\u001b[38;5;241m=\u001b[39m\u001b[38;5;124m\"\u001b[39m\u001b[38;5;124morange\u001b[39m\u001b[38;5;124m\"\u001b[39m\n\u001b[1;32m     75\u001b[0m )\n\u001b[1;32m     76\u001b[0m plt\u001b[38;5;241m.\u001b[39mtitle(\u001b[38;5;124m\"\u001b[39m\u001b[38;5;124mPSNR over epochs\u001b[39m\u001b[38;5;124m\"\u001b[39m)\n",
      "File \u001b[0;32m~/miniconda3/envs/text_super_resol/lib/python3.13/site-packages/seaborn/relational.py:485\u001b[0m, in \u001b[0;36mlineplot\u001b[0;34m(data, x, y, hue, size, style, units, weights, palette, hue_order, hue_norm, sizes, size_order, size_norm, dashes, markers, style_order, estimator, errorbar, n_boot, seed, orient, sort, err_style, err_kws, legend, ci, ax, **kwargs)\u001b[0m\n\u001b[1;32m    471\u001b[0m \u001b[38;5;28;01mdef\u001b[39;00m\u001b[38;5;250m \u001b[39m\u001b[38;5;21mlineplot\u001b[39m(\n\u001b[1;32m    472\u001b[0m     data\u001b[38;5;241m=\u001b[39m\u001b[38;5;28;01mNone\u001b[39;00m, \u001b[38;5;241m*\u001b[39m,\n\u001b[1;32m    473\u001b[0m     x\u001b[38;5;241m=\u001b[39m\u001b[38;5;28;01mNone\u001b[39;00m, y\u001b[38;5;241m=\u001b[39m\u001b[38;5;28;01mNone\u001b[39;00m, hue\u001b[38;5;241m=\u001b[39m\u001b[38;5;28;01mNone\u001b[39;00m, size\u001b[38;5;241m=\u001b[39m\u001b[38;5;28;01mNone\u001b[39;00m, style\u001b[38;5;241m=\u001b[39m\u001b[38;5;28;01mNone\u001b[39;00m, units\u001b[38;5;241m=\u001b[39m\u001b[38;5;28;01mNone\u001b[39;00m, weights\u001b[38;5;241m=\u001b[39m\u001b[38;5;28;01mNone\u001b[39;00m,\n\u001b[0;32m   (...)\u001b[0m\n\u001b[1;32m    481\u001b[0m \n\u001b[1;32m    482\u001b[0m     \u001b[38;5;66;03m# Handle deprecation of ci parameter\u001b[39;00m\n\u001b[1;32m    483\u001b[0m     errorbar \u001b[38;5;241m=\u001b[39m _deprecate_ci(errorbar, ci)\n\u001b[0;32m--> 485\u001b[0m     p \u001b[38;5;241m=\u001b[39m \u001b[43m_LinePlotter\u001b[49m\u001b[43m(\u001b[49m\n\u001b[1;32m    486\u001b[0m \u001b[43m        \u001b[49m\u001b[43mdata\u001b[49m\u001b[38;5;241;43m=\u001b[39;49m\u001b[43mdata\u001b[49m\u001b[43m,\u001b[49m\n\u001b[1;32m    487\u001b[0m \u001b[43m        \u001b[49m\u001b[43mvariables\u001b[49m\u001b[38;5;241;43m=\u001b[39;49m\u001b[38;5;28;43mdict\u001b[39;49m\u001b[43m(\u001b[49m\n\u001b[1;32m    488\u001b[0m \u001b[43m            \u001b[49m\u001b[43mx\u001b[49m\u001b[38;5;241;43m=\u001b[39;49m\u001b[43mx\u001b[49m\u001b[43m,\u001b[49m\u001b[43m \u001b[49m\u001b[43my\u001b[49m\u001b[38;5;241;43m=\u001b[39;49m\u001b[43my\u001b[49m\u001b[43m,\u001b[49m\u001b[43m \u001b[49m\u001b[43mhue\u001b[49m\u001b[38;5;241;43m=\u001b[39;49m\u001b[43mhue\u001b[49m\u001b[43m,\u001b[49m\u001b[43m \u001b[49m\u001b[43msize\u001b[49m\u001b[38;5;241;43m=\u001b[39;49m\u001b[43msize\u001b[49m\u001b[43m,\u001b[49m\u001b[43m \u001b[49m\u001b[43mstyle\u001b[49m\u001b[38;5;241;43m=\u001b[39;49m\u001b[43mstyle\u001b[49m\u001b[43m,\u001b[49m\u001b[43m \u001b[49m\u001b[43munits\u001b[49m\u001b[38;5;241;43m=\u001b[39;49m\u001b[43munits\u001b[49m\u001b[43m,\u001b[49m\u001b[43m \u001b[49m\u001b[43mweight\u001b[49m\u001b[38;5;241;43m=\u001b[39;49m\u001b[43mweights\u001b[49m\n\u001b[1;32m    489\u001b[0m \u001b[43m        \u001b[49m\u001b[43m)\u001b[49m\u001b[43m,\u001b[49m\n\u001b[1;32m    490\u001b[0m \u001b[43m        \u001b[49m\u001b[43mestimator\u001b[49m\u001b[38;5;241;43m=\u001b[39;49m\u001b[43mestimator\u001b[49m\u001b[43m,\u001b[49m\u001b[43m \u001b[49m\u001b[43mn_boot\u001b[49m\u001b[38;5;241;43m=\u001b[39;49m\u001b[43mn_boot\u001b[49m\u001b[43m,\u001b[49m\u001b[43m \u001b[49m\u001b[43mseed\u001b[49m\u001b[38;5;241;43m=\u001b[39;49m\u001b[43mseed\u001b[49m\u001b[43m,\u001b[49m\u001b[43m \u001b[49m\u001b[43merrorbar\u001b[49m\u001b[38;5;241;43m=\u001b[39;49m\u001b[43merrorbar\u001b[49m\u001b[43m,\u001b[49m\n\u001b[1;32m    491\u001b[0m \u001b[43m        \u001b[49m\u001b[43msort\u001b[49m\u001b[38;5;241;43m=\u001b[39;49m\u001b[43msort\u001b[49m\u001b[43m,\u001b[49m\u001b[43m \u001b[49m\u001b[43morient\u001b[49m\u001b[38;5;241;43m=\u001b[39;49m\u001b[43morient\u001b[49m\u001b[43m,\u001b[49m\u001b[43m \u001b[49m\u001b[43merr_style\u001b[49m\u001b[38;5;241;43m=\u001b[39;49m\u001b[43merr_style\u001b[49m\u001b[43m,\u001b[49m\u001b[43m \u001b[49m\u001b[43merr_kws\u001b[49m\u001b[38;5;241;43m=\u001b[39;49m\u001b[43merr_kws\u001b[49m\u001b[43m,\u001b[49m\n\u001b[1;32m    492\u001b[0m \u001b[43m        \u001b[49m\u001b[43mlegend\u001b[49m\u001b[38;5;241;43m=\u001b[39;49m\u001b[43mlegend\u001b[49m\u001b[43m,\u001b[49m\n\u001b[1;32m    493\u001b[0m \u001b[43m    \u001b[49m\u001b[43m)\u001b[49m\n\u001b[1;32m    495\u001b[0m     p\u001b[38;5;241m.\u001b[39mmap_hue(palette\u001b[38;5;241m=\u001b[39mpalette, order\u001b[38;5;241m=\u001b[39mhue_order, norm\u001b[38;5;241m=\u001b[39mhue_norm)\n\u001b[1;32m    496\u001b[0m     p\u001b[38;5;241m.\u001b[39mmap_size(sizes\u001b[38;5;241m=\u001b[39msizes, order\u001b[38;5;241m=\u001b[39msize_order, norm\u001b[38;5;241m=\u001b[39msize_norm)\n",
      "File \u001b[0;32m~/miniconda3/envs/text_super_resol/lib/python3.13/site-packages/seaborn/relational.py:216\u001b[0m, in \u001b[0;36m_LinePlotter.__init__\u001b[0;34m(self, data, variables, estimator, n_boot, seed, errorbar, sort, orient, err_style, err_kws, legend)\u001b[0m\n\u001b[1;32m    202\u001b[0m \u001b[38;5;28;01mdef\u001b[39;00m\u001b[38;5;250m \u001b[39m\u001b[38;5;21m__init__\u001b[39m(\n\u001b[1;32m    203\u001b[0m     \u001b[38;5;28mself\u001b[39m, \u001b[38;5;241m*\u001b[39m,\n\u001b[1;32m    204\u001b[0m     data\u001b[38;5;241m=\u001b[39m\u001b[38;5;28;01mNone\u001b[39;00m, variables\u001b[38;5;241m=\u001b[39m{},\n\u001b[0;32m   (...)\u001b[0m\n\u001b[1;32m    210\u001b[0m     \u001b[38;5;66;03m# the kind of plot to draw, but for the time being we need to set\u001b[39;00m\n\u001b[1;32m    211\u001b[0m     \u001b[38;5;66;03m# this information so the SizeMapping can use it\u001b[39;00m\n\u001b[1;32m    212\u001b[0m     \u001b[38;5;28mself\u001b[39m\u001b[38;5;241m.\u001b[39m_default_size_range \u001b[38;5;241m=\u001b[39m (\n\u001b[1;32m    213\u001b[0m         np\u001b[38;5;241m.\u001b[39mr_[\u001b[38;5;241m.5\u001b[39m, \u001b[38;5;241m2\u001b[39m] \u001b[38;5;241m*\u001b[39m mpl\u001b[38;5;241m.\u001b[39mrcParams[\u001b[38;5;124m\"\u001b[39m\u001b[38;5;124mlines.linewidth\u001b[39m\u001b[38;5;124m\"\u001b[39m]\n\u001b[1;32m    214\u001b[0m     )\n\u001b[0;32m--> 216\u001b[0m     \u001b[38;5;28;43msuper\u001b[39;49m\u001b[43m(\u001b[49m\u001b[43m)\u001b[49m\u001b[38;5;241;43m.\u001b[39;49m\u001b[38;5;21;43m__init__\u001b[39;49m\u001b[43m(\u001b[49m\u001b[43mdata\u001b[49m\u001b[38;5;241;43m=\u001b[39;49m\u001b[43mdata\u001b[49m\u001b[43m,\u001b[49m\u001b[43m \u001b[49m\u001b[43mvariables\u001b[49m\u001b[38;5;241;43m=\u001b[39;49m\u001b[43mvariables\u001b[49m\u001b[43m)\u001b[49m\n\u001b[1;32m    218\u001b[0m     \u001b[38;5;28mself\u001b[39m\u001b[38;5;241m.\u001b[39mestimator \u001b[38;5;241m=\u001b[39m estimator\n\u001b[1;32m    219\u001b[0m     \u001b[38;5;28mself\u001b[39m\u001b[38;5;241m.\u001b[39merrorbar \u001b[38;5;241m=\u001b[39m errorbar\n",
      "File \u001b[0;32m~/miniconda3/envs/text_super_resol/lib/python3.13/site-packages/seaborn/_base.py:634\u001b[0m, in \u001b[0;36mVectorPlotter.__init__\u001b[0;34m(self, data, variables)\u001b[0m\n\u001b[1;32m    629\u001b[0m \u001b[38;5;66;03m# var_ordered is relevant only for categorical axis variables, and may\u001b[39;00m\n\u001b[1;32m    630\u001b[0m \u001b[38;5;66;03m# be better handled by an internal axis information object that tracks\u001b[39;00m\n\u001b[1;32m    631\u001b[0m \u001b[38;5;66;03m# such information and is set up by the scale_* methods. The analogous\u001b[39;00m\n\u001b[1;32m    632\u001b[0m \u001b[38;5;66;03m# information for numeric axes would be information about log scales.\u001b[39;00m\n\u001b[1;32m    633\u001b[0m \u001b[38;5;28mself\u001b[39m\u001b[38;5;241m.\u001b[39m_var_ordered \u001b[38;5;241m=\u001b[39m {\u001b[38;5;124m\"\u001b[39m\u001b[38;5;124mx\u001b[39m\u001b[38;5;124m\"\u001b[39m: \u001b[38;5;28;01mFalse\u001b[39;00m, \u001b[38;5;124m\"\u001b[39m\u001b[38;5;124my\u001b[39m\u001b[38;5;124m\"\u001b[39m: \u001b[38;5;28;01mFalse\u001b[39;00m}  \u001b[38;5;66;03m# alt., used DefaultDict\u001b[39;00m\n\u001b[0;32m--> 634\u001b[0m \u001b[38;5;28;43mself\u001b[39;49m\u001b[38;5;241;43m.\u001b[39;49m\u001b[43massign_variables\u001b[49m\u001b[43m(\u001b[49m\u001b[43mdata\u001b[49m\u001b[43m,\u001b[49m\u001b[43m \u001b[49m\u001b[43mvariables\u001b[49m\u001b[43m)\u001b[49m\n\u001b[1;32m    636\u001b[0m \u001b[38;5;66;03m# TODO Lots of tests assume that these are called to initialize the\u001b[39;00m\n\u001b[1;32m    637\u001b[0m \u001b[38;5;66;03m# mappings to default values on class initialization. I'd prefer to\u001b[39;00m\n\u001b[1;32m    638\u001b[0m \u001b[38;5;66;03m# move away from that and only have a mapping when explicitly called.\u001b[39;00m\n\u001b[1;32m    639\u001b[0m \u001b[38;5;28;01mfor\u001b[39;00m var \u001b[38;5;129;01min\u001b[39;00m [\u001b[38;5;124m\"\u001b[39m\u001b[38;5;124mhue\u001b[39m\u001b[38;5;124m\"\u001b[39m, \u001b[38;5;124m\"\u001b[39m\u001b[38;5;124msize\u001b[39m\u001b[38;5;124m\"\u001b[39m, \u001b[38;5;124m\"\u001b[39m\u001b[38;5;124mstyle\u001b[39m\u001b[38;5;124m\"\u001b[39m]:\n",
      "File \u001b[0;32m~/miniconda3/envs/text_super_resol/lib/python3.13/site-packages/seaborn/_base.py:679\u001b[0m, in \u001b[0;36mVectorPlotter.assign_variables\u001b[0;34m(self, data, variables)\u001b[0m\n\u001b[1;32m    674\u001b[0m \u001b[38;5;28;01melse\u001b[39;00m:\n\u001b[1;32m    675\u001b[0m     \u001b[38;5;66;03m# When dealing with long-form input, use the newer PlotData\u001b[39;00m\n\u001b[1;32m    676\u001b[0m     \u001b[38;5;66;03m# object (internal but introduced for the objects interface)\u001b[39;00m\n\u001b[1;32m    677\u001b[0m     \u001b[38;5;66;03m# to centralize / standardize data consumption logic.\u001b[39;00m\n\u001b[1;32m    678\u001b[0m     \u001b[38;5;28mself\u001b[39m\u001b[38;5;241m.\u001b[39minput_format \u001b[38;5;241m=\u001b[39m \u001b[38;5;124m\"\u001b[39m\u001b[38;5;124mlong\u001b[39m\u001b[38;5;124m\"\u001b[39m\n\u001b[0;32m--> 679\u001b[0m     plot_data \u001b[38;5;241m=\u001b[39m \u001b[43mPlotData\u001b[49m\u001b[43m(\u001b[49m\u001b[43mdata\u001b[49m\u001b[43m,\u001b[49m\u001b[43m \u001b[49m\u001b[43mvariables\u001b[49m\u001b[43m)\u001b[49m\n\u001b[1;32m    680\u001b[0m     frame \u001b[38;5;241m=\u001b[39m plot_data\u001b[38;5;241m.\u001b[39mframe\n\u001b[1;32m    681\u001b[0m     names \u001b[38;5;241m=\u001b[39m plot_data\u001b[38;5;241m.\u001b[39mnames\n",
      "File \u001b[0;32m~/miniconda3/envs/text_super_resol/lib/python3.13/site-packages/seaborn/_core/data.py:58\u001b[0m, in \u001b[0;36mPlotData.__init__\u001b[0;34m(self, data, variables)\u001b[0m\n\u001b[1;32m     51\u001b[0m \u001b[38;5;28;01mdef\u001b[39;00m\u001b[38;5;250m \u001b[39m\u001b[38;5;21m__init__\u001b[39m(\n\u001b[1;32m     52\u001b[0m     \u001b[38;5;28mself\u001b[39m,\n\u001b[1;32m     53\u001b[0m     data: DataSource,\n\u001b[1;32m     54\u001b[0m     variables: \u001b[38;5;28mdict\u001b[39m[\u001b[38;5;28mstr\u001b[39m, VariableSpec],\n\u001b[1;32m     55\u001b[0m ):\n\u001b[1;32m     57\u001b[0m     data \u001b[38;5;241m=\u001b[39m handle_data_source(data)\n\u001b[0;32m---> 58\u001b[0m     frame, names, ids \u001b[38;5;241m=\u001b[39m \u001b[38;5;28;43mself\u001b[39;49m\u001b[38;5;241;43m.\u001b[39;49m\u001b[43m_assign_variables\u001b[49m\u001b[43m(\u001b[49m\u001b[43mdata\u001b[49m\u001b[43m,\u001b[49m\u001b[43m \u001b[49m\u001b[43mvariables\u001b[49m\u001b[43m)\u001b[49m\n\u001b[1;32m     60\u001b[0m     \u001b[38;5;28mself\u001b[39m\u001b[38;5;241m.\u001b[39mframe \u001b[38;5;241m=\u001b[39m frame\n\u001b[1;32m     61\u001b[0m     \u001b[38;5;28mself\u001b[39m\u001b[38;5;241m.\u001b[39mnames \u001b[38;5;241m=\u001b[39m names\n",
      "File \u001b[0;32m~/miniconda3/envs/text_super_resol/lib/python3.13/site-packages/seaborn/_core/data.py:265\u001b[0m, in \u001b[0;36mPlotData._assign_variables\u001b[0;34m(self, data, variables)\u001b[0m\n\u001b[1;32m    260\u001b[0m             ids[key] \u001b[38;5;241m=\u001b[39m \u001b[38;5;28mid\u001b[39m(val)\n\u001b[1;32m    262\u001b[0m \u001b[38;5;66;03m# Construct a tidy plot DataFrame. This will convert a number of\u001b[39;00m\n\u001b[1;32m    263\u001b[0m \u001b[38;5;66;03m# types automatically, aligning on index in case of pandas objects\u001b[39;00m\n\u001b[1;32m    264\u001b[0m \u001b[38;5;66;03m# TODO Note: this fails when variable specs *only* have scalars!\u001b[39;00m\n\u001b[0;32m--> 265\u001b[0m frame \u001b[38;5;241m=\u001b[39m \u001b[43mpd\u001b[49m\u001b[38;5;241;43m.\u001b[39;49m\u001b[43mDataFrame\u001b[49m\u001b[43m(\u001b[49m\u001b[43mplot_data\u001b[49m\u001b[43m)\u001b[49m\n\u001b[1;32m    267\u001b[0m \u001b[38;5;28;01mreturn\u001b[39;00m frame, names, ids\n",
      "File \u001b[0;32m~/miniconda3/envs/text_super_resol/lib/python3.13/site-packages/pandas/core/frame.py:778\u001b[0m, in \u001b[0;36mDataFrame.__init__\u001b[0;34m(self, data, index, columns, dtype, copy)\u001b[0m\n\u001b[1;32m    772\u001b[0m     mgr \u001b[38;5;241m=\u001b[39m \u001b[38;5;28mself\u001b[39m\u001b[38;5;241m.\u001b[39m_init_mgr(\n\u001b[1;32m    773\u001b[0m         data, axes\u001b[38;5;241m=\u001b[39m{\u001b[38;5;124m\"\u001b[39m\u001b[38;5;124mindex\u001b[39m\u001b[38;5;124m\"\u001b[39m: index, \u001b[38;5;124m\"\u001b[39m\u001b[38;5;124mcolumns\u001b[39m\u001b[38;5;124m\"\u001b[39m: columns}, dtype\u001b[38;5;241m=\u001b[39mdtype, copy\u001b[38;5;241m=\u001b[39mcopy\n\u001b[1;32m    774\u001b[0m     )\n\u001b[1;32m    776\u001b[0m \u001b[38;5;28;01melif\u001b[39;00m \u001b[38;5;28misinstance\u001b[39m(data, \u001b[38;5;28mdict\u001b[39m):\n\u001b[1;32m    777\u001b[0m     \u001b[38;5;66;03m# GH#38939 de facto copy defaults to False only in non-dict cases\u001b[39;00m\n\u001b[0;32m--> 778\u001b[0m     mgr \u001b[38;5;241m=\u001b[39m \u001b[43mdict_to_mgr\u001b[49m\u001b[43m(\u001b[49m\u001b[43mdata\u001b[49m\u001b[43m,\u001b[49m\u001b[43m \u001b[49m\u001b[43mindex\u001b[49m\u001b[43m,\u001b[49m\u001b[43m \u001b[49m\u001b[43mcolumns\u001b[49m\u001b[43m,\u001b[49m\u001b[43m \u001b[49m\u001b[43mdtype\u001b[49m\u001b[38;5;241;43m=\u001b[39;49m\u001b[43mdtype\u001b[49m\u001b[43m,\u001b[49m\u001b[43m \u001b[49m\u001b[43mcopy\u001b[49m\u001b[38;5;241;43m=\u001b[39;49m\u001b[43mcopy\u001b[49m\u001b[43m,\u001b[49m\u001b[43m \u001b[49m\u001b[43mtyp\u001b[49m\u001b[38;5;241;43m=\u001b[39;49m\u001b[43mmanager\u001b[49m\u001b[43m)\u001b[49m\n\u001b[1;32m    779\u001b[0m \u001b[38;5;28;01melif\u001b[39;00m \u001b[38;5;28misinstance\u001b[39m(data, ma\u001b[38;5;241m.\u001b[39mMaskedArray):\n\u001b[1;32m    780\u001b[0m     \u001b[38;5;28;01mfrom\u001b[39;00m\u001b[38;5;250m \u001b[39m\u001b[38;5;21;01mnumpy\u001b[39;00m\u001b[38;5;21;01m.\u001b[39;00m\u001b[38;5;21;01mma\u001b[39;00m\u001b[38;5;250m \u001b[39m\u001b[38;5;28;01mimport\u001b[39;00m mrecords\n",
      "File \u001b[0;32m~/miniconda3/envs/text_super_resol/lib/python3.13/site-packages/pandas/core/internals/construction.py:503\u001b[0m, in \u001b[0;36mdict_to_mgr\u001b[0;34m(data, index, columns, dtype, typ, copy)\u001b[0m\n\u001b[1;32m    499\u001b[0m     \u001b[38;5;28;01melse\u001b[39;00m:\n\u001b[1;32m    500\u001b[0m         \u001b[38;5;66;03m# dtype check to exclude e.g. range objects, scalars\u001b[39;00m\n\u001b[1;32m    501\u001b[0m         arrays \u001b[38;5;241m=\u001b[39m [x\u001b[38;5;241m.\u001b[39mcopy() \u001b[38;5;28;01mif\u001b[39;00m \u001b[38;5;28mhasattr\u001b[39m(x, \u001b[38;5;124m\"\u001b[39m\u001b[38;5;124mdtype\u001b[39m\u001b[38;5;124m\"\u001b[39m) \u001b[38;5;28;01melse\u001b[39;00m x \u001b[38;5;28;01mfor\u001b[39;00m x \u001b[38;5;129;01min\u001b[39;00m arrays]\n\u001b[0;32m--> 503\u001b[0m \u001b[38;5;28;01mreturn\u001b[39;00m \u001b[43marrays_to_mgr\u001b[49m\u001b[43m(\u001b[49m\u001b[43marrays\u001b[49m\u001b[43m,\u001b[49m\u001b[43m \u001b[49m\u001b[43mcolumns\u001b[49m\u001b[43m,\u001b[49m\u001b[43m \u001b[49m\u001b[43mindex\u001b[49m\u001b[43m,\u001b[49m\u001b[43m \u001b[49m\u001b[43mdtype\u001b[49m\u001b[38;5;241;43m=\u001b[39;49m\u001b[43mdtype\u001b[49m\u001b[43m,\u001b[49m\u001b[43m \u001b[49m\u001b[43mtyp\u001b[49m\u001b[38;5;241;43m=\u001b[39;49m\u001b[43mtyp\u001b[49m\u001b[43m,\u001b[49m\u001b[43m \u001b[49m\u001b[43mconsolidate\u001b[49m\u001b[38;5;241;43m=\u001b[39;49m\u001b[43mcopy\u001b[49m\u001b[43m)\u001b[49m\n",
      "File \u001b[0;32m~/miniconda3/envs/text_super_resol/lib/python3.13/site-packages/pandas/core/internals/construction.py:114\u001b[0m, in \u001b[0;36marrays_to_mgr\u001b[0;34m(arrays, columns, index, dtype, verify_integrity, typ, consolidate)\u001b[0m\n\u001b[1;32m    111\u001b[0m \u001b[38;5;28;01mif\u001b[39;00m verify_integrity:\n\u001b[1;32m    112\u001b[0m     \u001b[38;5;66;03m# figure out the index, if necessary\u001b[39;00m\n\u001b[1;32m    113\u001b[0m     \u001b[38;5;28;01mif\u001b[39;00m index \u001b[38;5;129;01mis\u001b[39;00m \u001b[38;5;28;01mNone\u001b[39;00m:\n\u001b[0;32m--> 114\u001b[0m         index \u001b[38;5;241m=\u001b[39m \u001b[43m_extract_index\u001b[49m\u001b[43m(\u001b[49m\u001b[43marrays\u001b[49m\u001b[43m)\u001b[49m\n\u001b[1;32m    115\u001b[0m     \u001b[38;5;28;01melse\u001b[39;00m:\n\u001b[1;32m    116\u001b[0m         index \u001b[38;5;241m=\u001b[39m ensure_index(index)\n",
      "File \u001b[0;32m~/miniconda3/envs/text_super_resol/lib/python3.13/site-packages/pandas/core/internals/construction.py:677\u001b[0m, in \u001b[0;36m_extract_index\u001b[0;34m(data)\u001b[0m\n\u001b[1;32m    675\u001b[0m lengths \u001b[38;5;241m=\u001b[39m \u001b[38;5;28mlist\u001b[39m(\u001b[38;5;28mset\u001b[39m(raw_lengths))\n\u001b[1;32m    676\u001b[0m \u001b[38;5;28;01mif\u001b[39;00m \u001b[38;5;28mlen\u001b[39m(lengths) \u001b[38;5;241m>\u001b[39m \u001b[38;5;241m1\u001b[39m:\n\u001b[0;32m--> 677\u001b[0m     \u001b[38;5;28;01mraise\u001b[39;00m \u001b[38;5;167;01mValueError\u001b[39;00m(\u001b[38;5;124m\"\u001b[39m\u001b[38;5;124mAll arrays must be of the same length\u001b[39m\u001b[38;5;124m\"\u001b[39m)\n\u001b[1;32m    679\u001b[0m \u001b[38;5;28;01mif\u001b[39;00m have_dicts:\n\u001b[1;32m    680\u001b[0m     \u001b[38;5;28;01mraise\u001b[39;00m \u001b[38;5;167;01mValueError\u001b[39;00m(\n\u001b[1;32m    681\u001b[0m         \u001b[38;5;124m\"\u001b[39m\u001b[38;5;124mMixing dicts with non-Series may lead to ambiguous ordering.\u001b[39m\u001b[38;5;124m\"\u001b[39m\n\u001b[1;32m    682\u001b[0m     )\n",
      "\u001b[0;31mValueError\u001b[0m: All arrays must be of the same length"
     ]
    }
   ],
   "source": [
    "psnr_weights = [0.1, 0.3, 0.5, 0.7, 0.9]\n",
    "results = {}\n",
    "\n",
    "for psnr_weight in psnr_weights:\n",
    "    print(f\"Training with PSNR weight: {psnr_weight}\")\n",
    "    history = train_model_for_resolution_pairs(64, 128, psnr_weight=psnr_weight)\n",
    "    results[psnr_weight] = history\n",
    "\n",
    "    # Plotting the results\n",
    "    plt.figure(figsize=(12, 6))\n",
    "    sns.lineplot(\n",
    "        x=range(1, NUM_EPOCHS + 1),\n",
    "        y=history[\"train_psnr\"],\n",
    "        label=f\"Train PSNR (weight={psnr_weight})\",\n",
    "        color=\"blue\"\n",
    "    )\n",
    "    sns.lineplot(\n",
    "        x=range(1, NUM_EPOCHS + 1),\n",
    "        y=history[\"val_psnr\"],\n",
    "        label=f\"Validation PSNR (weight={psnr_weight})\",\n",
    "        color=\"orange\"\n",
    "    )\n",
    "    plt.title(f\"PSNR over epochs (PSNR weight={psnr_weight})\")\n",
    "    plt.xlabel(\"Epoch\")\n",
    "    plt.ylabel(\"PSNR\")\n",
    "    plt.legend()\n",
    "    plt.show()\n",
    "\n",
    "    plt.figure(figsize=(12, 6))\n",
    "#     sns.lineplot(\n",
    "#         x=range(1, NUM_EPOCHS + 1),\n",
    "#         y=history[\"train_loss\"],\n",
    "#         label=f\"Train Loss (weight={psnr_weight})\",\n",
    "#         color=\"blue\"\n",
    "#     )\n",
    "#     sns.lineplot(\n",
    "#         x=range(1, NUM_EPOCHS + 1),\n",
    "#         y=history[\"val_loss\"],\n",
    "#         label=f\"Validation Loss (weight={psnr_weight})\",\n",
    "#         color=\"orange\"\n",
    "#     )\n",
    "#     plt.title(f\"Loss over epochs (PSNR weight={psnr_weight})\")\n",
    "#     plt.xlabel(\"Epoch\")\n",
    "#     plt.ylabel(\"Loss\")\n",
    "#     plt.legend()\n",
    "#     plt.show()\n",
    "\n",
    "# # Save the results\n",
    "# with open(\"grid_search_results.json\", \"w\") as f:\n",
    "#     json.dump(results, f)"
   ]
  },
  {
   "cell_type": "code",
   "execution_count": null,
   "metadata": {},
   "outputs": [
    {
     "name": "stderr",
     "output_type": "stream",
     "text": [
      "Training: 100%|██████████| 67/67 [00:34<00:00,  1.95it/s, loss=0.226, psnr=15.9]\n"
     ]
    },
    {
     "name": "stdout",
     "output_type": "stream",
     "text": [
      "[Epoch 1/30] Train Loss: 9.4055, PSNR: 6.08 | Val Loss: 0.2283, PSNR: 15.72 | lr: 0.01\n",
      "Model checkpoint saved at ckpt/ckpt_0\n"
     ]
    },
    {
     "name": "stderr",
     "output_type": "stream",
     "text": [
      "Training: 100%|██████████| 67/67 [00:27<00:00,  2.41it/s, loss=0.193, psnr=16.3]\n"
     ]
    },
    {
     "name": "stdout",
     "output_type": "stream",
     "text": [
      "[Epoch 2/30] Train Loss: 0.2054, PSNR: 16.15 | Val Loss: 0.1873, PSNR: 16.52 | lr: 0.01\n",
      "Model checkpoint saved at ckpt/ckpt_3\n",
      "Saved 5 samples at epoch 3 to samples_128_256/epoch_3_samples.png\n",
      "Model checkpoint saved at ckpt/ckpt_0\n"
     ]
    },
    {
     "name": "stderr",
     "output_type": "stream",
     "text": [
      "Training: 100%|██████████| 67/67 [00:27<00:00,  2.42it/s, loss=0.152, psnr=17.1]\n"
     ]
    },
    {
     "name": "stdout",
     "output_type": "stream",
     "text": [
      "[Epoch 3/30] Train Loss: 0.1650, PSNR: 16.85 | Val Loss: 0.1488, PSNR: 17.28 | lr: 0.01\n",
      "Model checkpoint saved at ckpt/ckpt_0\n"
     ]
    },
    {
     "name": "stderr",
     "output_type": "stream",
     "text": [
      "Training: 100%|██████████| 67/67 [00:28<00:00,  2.38it/s, loss=0.143, psnr=17.4]\n"
     ]
    },
    {
     "name": "stdout",
     "output_type": "stream",
     "text": [
      "[Epoch 4/30] Train Loss: 0.1439, PSNR: 17.42 | Val Loss: 0.1384, PSNR: 17.68 | lr: 0.01\n",
      "Model checkpoint saved at ckpt/ckpt_5\n",
      "Saved 5 samples at epoch 5 to samples_128_256/epoch_5_samples.png\n",
      "Model checkpoint saved at ckpt/ckpt_0\n"
     ]
    },
    {
     "name": "stderr",
     "output_type": "stream",
     "text": [
      "Training: 100%|██████████| 67/67 [00:27<00:00,  2.43it/s, loss=0.127, psnr=17.9]\n"
     ]
    },
    {
     "name": "stdout",
     "output_type": "stream",
     "text": [
      "[Epoch 5/30] Train Loss: 0.1312, PSNR: 17.86 | Val Loss: 0.1262, PSNR: 18.07 | lr: 0.01\n",
      "Model checkpoint saved at ckpt/ckpt_0\n"
     ]
    },
    {
     "name": "stderr",
     "output_type": "stream",
     "text": [
      "Training: 100%|██████████| 67/67 [00:27<00:00,  2.45it/s, loss=0.113, psnr=18.5]\n"
     ]
    },
    {
     "name": "stdout",
     "output_type": "stream",
     "text": [
      "[Epoch 6/30] Train Loss: 0.1179, PSNR: 18.34 | Val Loss: 0.1135, PSNR: 18.51 | lr: 0.005\n",
      "Model checkpoint saved at ckpt/ckpt_7\n",
      "Saved 5 samples at epoch 7 to samples_128_256/epoch_7_samples.png\n",
      "Model checkpoint saved at ckpt/ckpt_0\n"
     ]
    },
    {
     "name": "stderr",
     "output_type": "stream",
     "text": [
      "Training: 100%|██████████| 67/67 [00:28<00:00,  2.34it/s, loss=0.103, psnr=19]   \n"
     ]
    },
    {
     "name": "stdout",
     "output_type": "stream",
     "text": [
      "[Epoch 7/30] Train Loss: 0.1111, PSNR: 18.63 | Val Loss: 0.1107, PSNR: 18.70 | lr: 0.005\n",
      "Model checkpoint saved at ckpt/ckpt_0\n"
     ]
    },
    {
     "name": "stderr",
     "output_type": "stream",
     "text": [
      "Training: 100%|██████████| 67/67 [00:27<00:00,  2.41it/s, loss=0.106, psnr=18.9] \n"
     ]
    },
    {
     "name": "stdout",
     "output_type": "stream",
     "text": [
      "[Epoch 8/30] Train Loss: 0.1065, PSNR: 18.85 | Val Loss: 0.1045, PSNR: 18.95 | lr: 0.005\n",
      "Model checkpoint saved at ckpt/ckpt_9\n",
      "Saved 5 samples at epoch 9 to samples_128_256/epoch_9_samples.png\n",
      "Model checkpoint saved at ckpt/ckpt_0\n"
     ]
    },
    {
     "name": "stderr",
     "output_type": "stream",
     "text": [
      "Training: 100%|██████████| 67/67 [00:27<00:00,  2.40it/s, loss=0.11, psnr=18.9]  \n"
     ]
    },
    {
     "name": "stdout",
     "output_type": "stream",
     "text": [
      "[Epoch 9/30] Train Loss: 0.1016, PSNR: 19.10 | Val Loss: 0.1116, PSNR: 18.80 | lr: 0.005\n"
     ]
    },
    {
     "name": "stderr",
     "output_type": "stream",
     "text": [
      "Training: 100%|██████████| 67/67 [00:27<00:00,  2.43it/s, loss=0.0945, psnr=19.5]\n"
     ]
    },
    {
     "name": "stdout",
     "output_type": "stream",
     "text": [
      "[Epoch 10/30] Train Loss: 0.0977, PSNR: 19.29 | Val Loss: 0.0948, PSNR: 19.41 | lr: 0.0025\n",
      "Model checkpoint saved at ckpt/ckpt_11\n",
      "Saved 5 samples at epoch 11 to samples_128_256/epoch_11_samples.png\n",
      "Model checkpoint saved at ckpt/ckpt_0\n"
     ]
    },
    {
     "name": "stderr",
     "output_type": "stream",
     "text": [
      "Training: 100%|██████████| 67/67 [00:27<00:00,  2.40it/s, loss=0.0887, psnr=19.7]\n"
     ]
    },
    {
     "name": "stdout",
     "output_type": "stream",
     "text": [
      "[Epoch 11/30] Train Loss: 0.0937, PSNR: 19.48 | Val Loss: 0.0924, PSNR: 19.55 | lr: 0.0025\n",
      "Model checkpoint saved at ckpt/ckpt_0\n"
     ]
    },
    {
     "name": "stderr",
     "output_type": "stream",
     "text": [
      "Training: 100%|██████████| 67/67 [00:27<00:00,  2.45it/s, loss=0.0841, psnr=20]  \n"
     ]
    },
    {
     "name": "stdout",
     "output_type": "stream",
     "text": [
      "[Epoch 12/30] Train Loss: 0.0915, PSNR: 19.61 | Val Loss: 0.0904, PSNR: 19.64 | lr: 0.0025\n",
      "Model checkpoint saved at ckpt/ckpt_13\n",
      "Saved 5 samples at epoch 13 to samples_128_256/epoch_13_samples.png\n",
      "Model checkpoint saved at ckpt/ckpt_0\n"
     ]
    },
    {
     "name": "stderr",
     "output_type": "stream",
     "text": [
      "Training: 100%|██████████| 67/67 [00:27<00:00,  2.43it/s, loss=0.0866, psnr=19.9]\n"
     ]
    },
    {
     "name": "stdout",
     "output_type": "stream",
     "text": [
      "[Epoch 13/30] Train Loss: 0.0894, PSNR: 19.72 | Val Loss: 0.0879, PSNR: 19.80 | lr: 0.0025\n",
      "Model checkpoint saved at ckpt/ckpt_0\n"
     ]
    },
    {
     "name": "stderr",
     "output_type": "stream",
     "text": [
      "Training: 100%|██████████| 67/67 [00:27<00:00,  2.45it/s, loss=0.094, psnr=19.5] \n"
     ]
    },
    {
     "name": "stdout",
     "output_type": "stream",
     "text": [
      "[Epoch 14/30] Train Loss: 0.0870, PSNR: 19.85 | Val Loss: 0.0862, PSNR: 19.89 | lr: 0.00125\n",
      "Model checkpoint saved at ckpt/ckpt_15\n",
      "Saved 5 samples at epoch 15 to samples_128_256/epoch_15_samples.png\n",
      "Model checkpoint saved at ckpt/ckpt_0\n"
     ]
    },
    {
     "name": "stderr",
     "output_type": "stream",
     "text": [
      "Training: 100%|██████████| 67/67 [00:27<00:00,  2.43it/s, loss=0.0853, psnr=20]  \n"
     ]
    },
    {
     "name": "stdout",
     "output_type": "stream",
     "text": [
      "[Epoch 15/30] Train Loss: 0.0858, PSNR: 19.92 | Val Loss: 0.0854, PSNR: 19.94 | lr: 0.00125\n",
      "Model checkpoint saved at ckpt/ckpt_0\n"
     ]
    },
    {
     "name": "stderr",
     "output_type": "stream",
     "text": [
      "Training: 100%|██████████| 67/67 [00:27<00:00,  2.46it/s, loss=0.0902, psnr=19.7]\n"
     ]
    },
    {
     "name": "stdout",
     "output_type": "stream",
     "text": [
      "[Epoch 16/30] Train Loss: 0.0847, PSNR: 19.98 | Val Loss: 0.0839, PSNR: 20.03 | lr: 0.00125\n",
      "Model checkpoint saved at ckpt/ckpt_17\n",
      "Saved 5 samples at epoch 17 to samples_128_256/epoch_17_samples.png\n",
      "Model checkpoint saved at ckpt/ckpt_0\n"
     ]
    },
    {
     "name": "stderr",
     "output_type": "stream",
     "text": [
      "Training: 100%|██████████| 67/67 [00:28<00:00,  2.35it/s, loss=0.0884, psnr=19.8]\n"
     ]
    },
    {
     "name": "stdout",
     "output_type": "stream",
     "text": [
      "[Epoch 17/30] Train Loss: 0.0835, PSNR: 20.05 | Val Loss: 0.0829, PSNR: 20.09 | lr: 0.00125\n",
      "Model checkpoint saved at ckpt/ckpt_0\n"
     ]
    },
    {
     "name": "stderr",
     "output_type": "stream",
     "text": [
      "Training: 100%|██████████| 67/67 [00:27<00:00,  2.43it/s, loss=0.076, psnr=20.5] \n"
     ]
    },
    {
     "name": "stdout",
     "output_type": "stream",
     "text": [
      "[Epoch 18/30] Train Loss: 0.0824, PSNR: 20.12 | Val Loss: 0.0821, PSNR: 20.14 | lr: 0.00063\n",
      "Model checkpoint saved at ckpt/ckpt_19\n",
      "Saved 5 samples at epoch 19 to samples_128_256/epoch_19_samples.png\n",
      "Model checkpoint saved at ckpt/ckpt_0\n"
     ]
    },
    {
     "name": "stderr",
     "output_type": "stream",
     "text": [
      "Training: 100%|██████████| 67/67 [00:27<00:00,  2.43it/s, loss=0.0755, psnr=20.5]\n"
     ]
    },
    {
     "name": "stdout",
     "output_type": "stream",
     "text": [
      "[Epoch 19/30] Train Loss: 0.0819, PSNR: 20.15 | Val Loss: 0.0814, PSNR: 20.17 | lr: 0.00063\n",
      "Model checkpoint saved at ckpt/ckpt_0\n"
     ]
    },
    {
     "name": "stderr",
     "output_type": "stream",
     "text": [
      "Training: 100%|██████████| 67/67 [00:27<00:00,  2.44it/s, loss=0.0797, psnr=20.3]\n"
     ]
    },
    {
     "name": "stdout",
     "output_type": "stream",
     "text": [
      "[Epoch 20/30] Train Loss: 0.0814, PSNR: 20.18 | Val Loss: 0.0809, PSNR: 20.20 | lr: 0.00063\n",
      "Model checkpoint saved at ckpt/ckpt_21\n",
      "Saved 5 samples at epoch 21 to samples_128_256/epoch_21_samples.png\n",
      "Model checkpoint saved at ckpt/ckpt_0\n"
     ]
    },
    {
     "name": "stderr",
     "output_type": "stream",
     "text": [
      "Training: 100%|██████████| 67/67 [00:27<00:00,  2.41it/s, loss=0.0764, psnr=20.5]\n"
     ]
    },
    {
     "name": "stdout",
     "output_type": "stream",
     "text": [
      "[Epoch 21/30] Train Loss: 0.0807, PSNR: 20.22 | Val Loss: 0.0805, PSNR: 20.23 | lr: 0.00063\n",
      "Model checkpoint saved at ckpt/ckpt_0\n"
     ]
    },
    {
     "name": "stderr",
     "output_type": "stream",
     "text": [
      "Training: 100%|██████████| 67/67 [00:27<00:00,  2.42it/s, loss=0.0764, psnr=20.5]\n"
     ]
    },
    {
     "name": "stdout",
     "output_type": "stream",
     "text": [
      "[Epoch 22/30] Train Loss: 0.0802, PSNR: 20.25 | Val Loss: 0.0800, PSNR: 20.26 | lr: 0.00031\n",
      "Model checkpoint saved at ckpt/ckpt_23\n",
      "Saved 5 samples at epoch 23 to samples_128_256/epoch_23_samples.png\n",
      "Model checkpoint saved at ckpt/ckpt_0\n"
     ]
    },
    {
     "name": "stderr",
     "output_type": "stream",
     "text": [
      "Training: 100%|██████████| 67/67 [00:27<00:00,  2.40it/s, loss=0.0804, psnr=20.3]\n"
     ]
    },
    {
     "name": "stdout",
     "output_type": "stream",
     "text": [
      "[Epoch 23/30] Train Loss: 0.0799, PSNR: 20.27 | Val Loss: 0.0797, PSNR: 20.28 | lr: 0.00031\n",
      "Model checkpoint saved at ckpt/ckpt_0\n"
     ]
    },
    {
     "name": "stderr",
     "output_type": "stream",
     "text": [
      "Training: 100%|██████████| 67/67 [00:27<00:00,  2.42it/s, loss=0.0795, psnr=20.3]\n"
     ]
    },
    {
     "name": "stdout",
     "output_type": "stream",
     "text": [
      "[Epoch 24/30] Train Loss: 0.0795, PSNR: 20.29 | Val Loss: 0.0793, PSNR: 20.30 | lr: 0.00031\n",
      "Model checkpoint saved at ckpt/ckpt_25\n",
      "Saved 5 samples at epoch 25 to samples_128_256/epoch_25_samples.png\n",
      "Model checkpoint saved at ckpt/ckpt_0\n"
     ]
    },
    {
     "name": "stderr",
     "output_type": "stream",
     "text": [
      "Training: 100%|██████████| 67/67 [00:28<00:00,  2.39it/s, loss=0.0783, psnr=20.4]\n"
     ]
    },
    {
     "name": "stdout",
     "output_type": "stream",
     "text": [
      "[Epoch 25/30] Train Loss: 0.0793, PSNR: 20.31 | Val Loss: 0.0792, PSNR: 20.32 | lr: 0.00031\n",
      "Model checkpoint saved at ckpt/ckpt_0\n"
     ]
    },
    {
     "name": "stderr",
     "output_type": "stream",
     "text": [
      "Training: 100%|██████████| 67/67 [00:58<00:00,  1.15it/s, loss=0.0834, psnr=20.1]\n"
     ]
    },
    {
     "name": "stdout",
     "output_type": "stream",
     "text": [
      "[Epoch 26/30] Train Loss: 0.0790, PSNR: 20.33 | Val Loss: 0.0788, PSNR: 20.33 | lr: 0.00016\n",
      "Model checkpoint saved at ckpt/ckpt_27\n",
      "Saved 5 samples at epoch 27 to samples_128_256/epoch_27_samples.png\n",
      "Model checkpoint saved at ckpt/ckpt_0\n"
     ]
    },
    {
     "name": "stderr",
     "output_type": "stream",
     "text": [
      "Training: 100%|██████████| 67/67 [00:30<00:00,  2.21it/s, loss=0.0776, psnr=20.4]\n"
     ]
    },
    {
     "name": "stdout",
     "output_type": "stream",
     "text": [
      "[Epoch 27/30] Train Loss: 0.0788, PSNR: 20.34 | Val Loss: 0.0787, PSNR: 20.34 | lr: 0.00016\n",
      "Model checkpoint saved at ckpt/ckpt_0\n"
     ]
    },
    {
     "name": "stderr",
     "output_type": "stream",
     "text": [
      "Training: 100%|██████████| 67/67 [05:27<00:00,  4.88s/it, loss=0.0819, psnr=20.2]  \n"
     ]
    },
    {
     "name": "stdout",
     "output_type": "stream",
     "text": [
      "[Epoch 28/30] Train Loss: 0.0786, PSNR: 20.35 | Val Loss: 0.0785, PSNR: 20.35 | lr: 0.00016\n",
      "Model checkpoint saved at ckpt/ckpt_29\n",
      "Saved 5 samples at epoch 29 to samples_128_256/epoch_29_samples.png\n",
      "Model checkpoint saved at ckpt/ckpt_0\n"
     ]
    },
    {
     "name": "stderr",
     "output_type": "stream",
     "text": [
      "Training: 100%|██████████| 67/67 [00:55<00:00,  1.21it/s, loss=0.0782, psnr=20.4]\n"
     ]
    },
    {
     "name": "stdout",
     "output_type": "stream",
     "text": [
      "[Epoch 29/30] Train Loss: 0.0785, PSNR: 20.36 | Val Loss: 0.0784, PSNR: 20.35 | lr: 0.00016\n",
      "Model checkpoint saved at ckpt/ckpt_0\n"
     ]
    },
    {
     "name": "stderr",
     "output_type": "stream",
     "text": [
      "Training: 100%|██████████| 67/67 [00:27<00:00,  2.42it/s, loss=0.0795, psnr=20.3]\n"
     ]
    },
    {
     "name": "stdout",
     "output_type": "stream",
     "text": [
      "[Epoch 30/30] Train Loss: 0.0783, PSNR: 20.37 | Val Loss: 0.0782, PSNR: 20.37 | lr: 8e-05\n",
      "Model checkpoint saved at ckpt/ckpt_31\n",
      "Saved 5 samples at epoch 31 to samples_128_256/epoch_31_samples.png\n",
      "Model checkpoint saved at ckpt/ckpt_0\n"
     ]
    }
   ],
   "source": [
    "train_model_for_resolution_pairs(128, 256)"
   ]
  },
  {
   "cell_type": "code",
   "execution_count": null,
   "metadata": {},
   "outputs": [
    {
     "name": "stderr",
     "output_type": "stream",
     "text": [
      "Training: 100%|██████████| 67/67 [2:36:16<00:00, 139.94s/it, loss=0.135, psnr=19.4]   \n"
     ]
    },
    {
     "name": "stdout",
     "output_type": "stream",
     "text": [
      "[Epoch 1/30] Train Loss: 19.0649, PSNR: -2.96 | Val Loss: 0.1273, PSNR: 20.24 | lr: 0.01\n",
      "Model checkpoint saved at ckpt/ckpt_0\n"
     ]
    },
    {
     "name": "stderr",
     "output_type": "stream",
     "text": [
      "Training: 100%|██████████| 67/67 [41:02<00:00, 36.76s/it, loss=0.16, psnr=16.9]  \n"
     ]
    },
    {
     "name": "stdout",
     "output_type": "stream",
     "text": [
      "[Epoch 2/30] Train Loss: 0.2267, PSNR: 17.36 | Val Loss: 0.3321, PSNR: 10.29 | lr: 0.01\n",
      "Model checkpoint saved at ckpt/ckpt_3\n",
      "Saved 5 samples at epoch 3 to samples_256_512/epoch_3_samples.png\n"
     ]
    },
    {
     "name": "stderr",
     "output_type": "stream",
     "text": [
      "Training: 100%|██████████| 67/67 [1:00:27<00:00, 54.15s/it, loss=0.1, psnr=21.7]    \n"
     ]
    },
    {
     "name": "stdout",
     "output_type": "stream",
     "text": [
      "[Epoch 3/30] Train Loss: 0.1504, PSNR: 19.41 | Val Loss: 0.1403, PSNR: 19.20 | lr: 0.01\n"
     ]
    },
    {
     "name": "stderr",
     "output_type": "stream",
     "text": [
      "Training: 100%|██████████| 67/67 [1:33:15<00:00, 83.52s/it, loss=0.112, psnr=20.8]   \n"
     ]
    },
    {
     "name": "stdout",
     "output_type": "stream",
     "text": [
      "[Epoch 4/30] Train Loss: 0.2149, PSNR: 16.72 | Val Loss: 0.1202, PSNR: 20.77 | lr: 0.01\n",
      "Model checkpoint saved at ckpt/ckpt_5\n",
      "Saved 5 samples at epoch 5 to samples_256_512/epoch_5_samples.png\n",
      "Model checkpoint saved at ckpt/ckpt_0\n"
     ]
    },
    {
     "name": "stderr",
     "output_type": "stream",
     "text": [
      "Training: 100%|██████████| 67/67 [57:10<00:00, 51.21s/it, loss=0.139, psnr=19.6]   \n"
     ]
    },
    {
     "name": "stdout",
     "output_type": "stream",
     "text": [
      "[Epoch 5/30] Train Loss: 1.0411, PSNR: 11.72 | Val Loss: 0.1432, PSNR: 19.02 | lr: 0.01\n"
     ]
    },
    {
     "name": "stderr",
     "output_type": "stream",
     "text": [
      "Training: 100%|██████████| 67/67 [1:18:47<00:00, 70.57s/it, loss=0.0949, psnr=21.7] \n"
     ]
    },
    {
     "name": "stdout",
     "output_type": "stream",
     "text": [
      "[Epoch 6/30] Train Loss: 0.3516, PSNR: 18.81 | Val Loss: 0.0965, PSNR: 21.19 | lr: 0.01\n",
      "Model checkpoint saved at ckpt/ckpt_7\n",
      "Saved 5 samples at epoch 7 to samples_256_512/epoch_7_samples.png\n",
      "Model checkpoint saved at ckpt/ckpt_0\n"
     ]
    },
    {
     "name": "stderr",
     "output_type": "stream",
     "text": [
      "Training: 100%|██████████| 67/67 [40:51<00:00, 36.58s/it, loss=0.0752, psnr=22]  \n"
     ]
    },
    {
     "name": "stdout",
     "output_type": "stream",
     "text": [
      "[Epoch 7/30] Train Loss: 0.0806, PSNR: 22.01 | Val Loss: 0.0748, PSNR: 22.15 | lr: 0.005\n",
      "Model checkpoint saved at ckpt/ckpt_0\n"
     ]
    },
    {
     "name": "stderr",
     "output_type": "stream",
     "text": [
      "Training: 100%|██████████| 67/67 [1:46:44<00:00, 95.60s/it, loss=0.0529, psnr=23.4]   \n"
     ]
    }
   ],
   "source": [
    "train_model_for_resolution_pairs(256, 512)"
   ]
  }
 ],
 "metadata": {
  "kernelspec": {
   "display_name": "text_super_resol",
   "language": "python",
   "name": "python3"
  },
  "language_info": {
   "codemirror_mode": {
    "name": "ipython",
    "version": 3
   },
   "file_extension": ".py",
   "mimetype": "text/x-python",
   "name": "python",
   "nbconvert_exporter": "python",
   "pygments_lexer": "ipython3",
   "version": "3.13.2"
  }
 },
 "nbformat": 4,
 "nbformat_minor": 2
}
