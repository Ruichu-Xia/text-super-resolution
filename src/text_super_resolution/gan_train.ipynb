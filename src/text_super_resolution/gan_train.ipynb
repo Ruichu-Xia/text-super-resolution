{
 "cells": [
  {
   "cell_type": "code",
   "execution_count": null,
   "metadata": {},
   "outputs": [],
   "source": [
    "import json\n",
    "import os\n",
    "\n",
    "import torch\n",
    "import torch.nn as nn\n",
    "import torch.nn.functional as F\n",
    "import torch.optim as optim\n",
    "from torch.utils.data import DataLoader\n",
    "\n",
    "from model.ESRGAN import RRDBNet, Discriminator_VGG, train_esrgan\n",
    "from data_utils.dataset import LocalImageDataset, get_split_indices\n",
    "from model.utils import get_device, train_model_single_epoch, validate_model_single_epoch, save_checkpoint, save_samples, CombinedLoss"
   ]
  },
  {
   "cell_type": "code",
   "execution_count": null,
   "metadata": {},
   "outputs": [],
   "source": [
    "generator = RRDBNet()\n",
    "vgg_extractor = Discriminator_VGG()"
   ]
  },
  {
   "cell_type": "code",
   "execution_count": null,
   "metadata": {},
   "outputs": [],
   "source": [
    "with open(\"data/test_indices.json\", \"r\") as f:\n",
    "    test_indices = json.load(f)\n",
    "len(test_indices)"
   ]
  },
  {
   "cell_type": "code",
   "execution_count": null,
   "metadata": {},
   "outputs": [],
   "source": [
    "INPUT_DIR = \"data/resolution_128\"\n",
    "TARGET_DIR = \"data/resolution_256\"\n",
    "NUM_EPOCHS = 30\n",
    "BATCH_SIZE = 64\n",
    "LEARNING_RATE = 0.01\n",
    "\n",
    "GRAD_CLIP = 1\n",
    "EDGE_WEIGHT = 0.3\n",
    "PSNR_WEIGHT = 0.3\n",
    "\n",
    "history = {\n",
    "    \"train_loss\": [],\n",
    "    \"train_psnr\": [],\n",
    "    \"val_loss\": [],\n",
    "    \"val_psnr\": []\n",
    "}"
   ]
  },
  {
   "cell_type": "code",
   "execution_count": null,
   "metadata": {},
   "outputs": [],
   "source": [
    "train_loader = DataLoader(LocalImageDataset(INPUT_DIR, TARGET_DIR, train_indices), batch_size=BATCH_SIZE, shuffle=True)\n",
    "val_loader = DataLoader(LocalImageDataset(INPUT_DIR, TARGET_DIR, val_indices), batch_size=BATCH_SIZE, shuffle=False)\n",
    "test_loader = DataLoader(LocalImageDataset(INPUT_DIR, TARGET_DIR, test_indices), batch_size=BATCH_SIZE, shuffle=False)"
   ]
  },
  {
   "cell_type": "code",
   "execution_count": null,
   "metadata": {},
   "outputs": [],
   "source": [
    "num_images = len([f for f in os.listdir(INPUT_DIR) if f.endswith(('.jpg', '.png', '.jpeg', '.webp'))])\n",
    "train_indices, val_indices = get_split_indices(num_images, test_indices)"
   ]
  },
  {
   "cell_type": "code",
   "execution_count": null,
   "metadata": {},
   "outputs": [],
   "source": [
    "mae_loss = nn.L1Loss()\n",
    "criterion = CombinedLoss(mae_loss, EDGE_WEIGHT)\n",
    "optimizer = optim.AdamW(generator.parameters(), lr=LEARNING_RATE)\n",
    "scheduler = torch.optim.lr_scheduler.ReduceLROnPlateau(optimizer, mode='min', factor=0.5, patience=60)"
   ]
  },
  {
   "cell_type": "code",
   "execution_count": null,
   "metadata": {},
   "outputs": [],
   "source": [
    "train_esrgan(generator, discriminator, vgg_extractor, dataloader, \n",
    "                 g_optimizer, d_optimizer, num_epochs=100, device='cuda')"
   ]
  }
 ],
 "metadata": {
  "kernelspec": {
   "display_name": "text_super_resol",
   "language": "python",
   "name": "python3"
  },
  "language_info": {
   "codemirror_mode": {
    "name": "ipython",
    "version": 3
   },
   "file_extension": ".py",
   "mimetype": "text/x-python",
   "name": "python",
   "nbconvert_exporter": "python",
   "pygments_lexer": "ipython3",
   "version": "3.13.2"
  }
 },
 "nbformat": 4,
 "nbformat_minor": 2
}
